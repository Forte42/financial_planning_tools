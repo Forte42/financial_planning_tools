{
 "cells": [
  {
   "cell_type": "markdown",
   "metadata": {},
   "source": [
    "# Financial Planning with APIs and Simulations\n",
    "\n",
    "In this Challenge, you’ll create two financial analysis tools by using a single Jupyter notebook:\n",
    "\n",
    "Part 1: A financial planner for emergencies. The members will be able to use this tool to visualize their current savings. The members can then determine if they have enough reserves for an emergency fund.\n",
    "\n",
    "Part 2: A financial planner for retirement. This tool will forecast the performance of their retirement portfolio in 30 years. To do this, the tool will make an Alpaca API call via the Alpaca SDK to get historical price data for use in Monte Carlo simulations.\n",
    "\n",
    "You’ll use the information from the Monte Carlo simulation to answer questions about the portfolio in your Jupyter notebook.\n",
    "\n"
   ]
  },
  {
   "cell_type": "code",
   "execution_count": 3,
   "metadata": {},
   "outputs": [],
   "source": [
    "# Import the required libraries and dependencies\n",
    "import os\n",
    "import requests\n",
    "import json\n",
    "import pandas as pd\n",
    "from dotenv import load_dotenv\n",
    "import alpaca_trade_api as tradeapi\n",
    "from MCForecastTools import MCSimulation\n",
    "\n",
    "%matplotlib inline"
   ]
  },
  {
   "cell_type": "code",
   "execution_count": 4,
   "metadata": {},
   "outputs": [
    {
     "data": {
      "text/plain": [
       "True"
      ]
     },
     "execution_count": 4,
     "metadata": {},
     "output_type": "execute_result"
    }
   ],
   "source": [
    "# Load the environment variables from the .env file\n",
    "#by calling the load_dotenv function\n",
    "load_dotenv()"
   ]
  },
  {
   "cell_type": "markdown",
   "metadata": {},
   "source": [
    "## Part 1: Create a Financial Planner for Emergencies"
   ]
  },
  {
   "cell_type": "markdown",
   "metadata": {},
   "source": [
    "### Evaluate the Cryptocurrency Wallet by Using the Requests Library\n",
    "\n",
    "In this section, you’ll determine the current value of a member’s cryptocurrency wallet. You’ll collect the current prices for the Bitcoin and Ethereum cryptocurrencies by using the Python Requests library. For the prototype, you’ll assume that the member holds the 1.2 Bitcoins (BTC) and 5.3 Ethereum coins (ETH). To do all this, complete the following steps:\n",
    "\n",
    "1. Create a variable named `monthly_income`, and set its value to `12000`.\n",
    "\n",
    "2. Use the Requests library to get the current price (in US dollars) of Bitcoin (BTC) and Ethereum (ETH) by using the API endpoints that the starter code supplies.\n",
    "\n",
    "3. Navigate the JSON response object to access the current price of each coin, and store each in a variable.\n",
    "\n",
    "    > **Hint** Note the specific identifier for each cryptocurrency in the API JSON response. The Bitcoin identifier is `1`, and the Ethereum identifier is `1027`.\n",
    "\n",
    "4. Calculate the value, in US dollars, of the current amount of each cryptocurrency and of the entire cryptocurrency wallet.\n",
    "\n"
   ]
  },
  {
   "cell_type": "code",
   "execution_count": 5,
   "metadata": {},
   "outputs": [],
   "source": [
    "# The current number of coins for each cryptocurrency asset held in the portfolio.\n",
    "btc_coins = 1.2\n",
    "eth_coins = 5.3"
   ]
  },
  {
   "cell_type": "markdown",
   "metadata": {},
   "source": [
    "#### Step 1: Create a variable named `monthly_income`, and set its value to `12000`."
   ]
  },
  {
   "cell_type": "code",
   "execution_count": 6,
   "metadata": {},
   "outputs": [],
   "source": [
    "# The monthly amount for the member's household income\n",
    "monthly_income = 12000\n"
   ]
  },
  {
   "cell_type": "markdown",
   "metadata": {},
   "source": [
    "#### Review the endpoint URLs for the API calls to Free Crypto API in order to get the current pricing information for both BTC and ETH."
   ]
  },
  {
   "cell_type": "code",
   "execution_count": 7,
   "metadata": {},
   "outputs": [],
   "source": [
    "# The Free Crypto API Call endpoint URLs for the held cryptocurrency assets\n",
    "btc_url = \"https://api.alternative.me/v2/ticker/Bitcoin/?convert=USD\"\n",
    "eth_url = \"https://api.alternative.me/v2/ticker/Ethereum/?convert=USD\""
   ]
  },
  {
   "cell_type": "markdown",
   "metadata": {},
   "source": [
    "#### Step 2. Use the Requests library to get the current price (in US dollars) of Bitcoin (BTC) and Ethereum (ETH) by using the API endpoints that the starter code supplied."
   ]
  },
  {
   "cell_type": "code",
   "execution_count": 58,
   "metadata": {},
   "outputs": [
    {
     "name": "stdout",
     "output_type": "stream",
     "text": [
      "{\n",
      "    \"data\": {\n",
      "        \"1\": {\n",
      "            \"circulating_supply\": 19093543,\n",
      "            \"id\": 1,\n",
      "            \"last_updated\": 1657818237,\n",
      "            \"max_supply\": 21000000,\n",
      "            \"name\": \"Bitcoin\",\n",
      "            \"quotes\": {\n",
      "                \"USD\": {\n",
      "                    \"market_cap\": 386485512124,\n",
      "                    \"percent_change_1h\": -1.18084040799042,\n",
      "                    \"percent_change_24h\": 2.70858663505193,\n",
      "                    \"percent_change_7d\": -1.80477168606545,\n",
      "                    \"percentage_change_1h\": -1.18084040799042,\n",
      "                    \"percentage_change_24h\": 2.70858663505193,\n",
      "                    \"percentage_change_7d\": -1.80477168606545,\n",
      "                    \"price\": 20196.0,\n",
      "                    \"volume_24h\": 26321854094\n",
      "                }\n",
      "            },\n",
      "            \"rank\": 1,\n",
      "            \"symbol\": \"BTC\",\n",
      "            \"total_supply\": 19093543,\n",
      "            \"website_slug\": \"bitcoin\"\n",
      "        }\n",
      "    },\n",
      "    \"metadata\": {\n",
      "        \"error\": null,\n",
      "        \"num_cryptocurrencies\": 3116,\n",
      "        \"timestamp\": 1657818237\n",
      "    }\n",
      "}\n"
     ]
    }
   ],
   "source": [
    "# Using the Python requests library, make an API call to access the current price of BTC\n",
    "btc_response = requests.get(btc_url).json()\n",
    "\n",
    "# Use the json.dumps function to review the response data from the API call\n",
    "# Use the indent and sort_keys parameters to make the response object readable\n",
    "print(json.dumps(btc_response, indent=4, sort_keys=True))\n"
   ]
  },
  {
   "cell_type": "code",
   "execution_count": 11,
   "metadata": {},
   "outputs": [
    {
     "name": "stdout",
     "output_type": "stream",
     "text": [
      "{\n",
      "    \"data\": {\n",
      "        \"1027\": {\n",
      "            \"circulating_supply\": 119668057,\n",
      "            \"id\": 1027,\n",
      "            \"last_updated\": 1657738381,\n",
      "            \"max_supply\": 119668057,\n",
      "            \"name\": \"Ethereum\",\n",
      "            \"quotes\": {\n",
      "                \"USD\": {\n",
      "                    \"market_cap\": 130407535275,\n",
      "                    \"percent_change_1h\": -0.44145156316796,\n",
      "                    \"percent_change_24h\": 2.2714655455758,\n",
      "                    \"percent_change_7d\": -3.87477542362181,\n",
      "                    \"percentage_change_1h\": -0.44145156316796,\n",
      "                    \"percentage_change_24h\": 2.2714655455758,\n",
      "                    \"percentage_change_7d\": -3.87477542362181,\n",
      "                    \"price\": 1090.08,\n",
      "                    \"volume_24h\": 17791914190\n",
      "                }\n",
      "            },\n",
      "            \"rank\": 2,\n",
      "            \"symbol\": \"ETH\",\n",
      "            \"total_supply\": 119668057,\n",
      "            \"website_slug\": \"ethereum\"\n",
      "        }\n",
      "    },\n",
      "    \"metadata\": {\n",
      "        \"error\": null,\n",
      "        \"num_cryptocurrencies\": 3116,\n",
      "        \"timestamp\": 1657738381\n",
      "    }\n",
      "}\n"
     ]
    }
   ],
   "source": [
    "# Using the Python requests library, make an API call to access the current price ETH\n",
    "eth_response = requests.get(eth_url).json()\n",
    "\n",
    "# Use the json.dumps function to review the response data from the API call\n",
    "# Use the indent and sort_keys parameters to make the response object readable\n",
    "print(json.dumps(eth_response, indent=4, sort_keys=True))\n"
   ]
  },
  {
   "cell_type": "markdown",
   "metadata": {},
   "source": [
    "#### Step 3: Navigate the JSON response object to access the current price of each coin, and store each in a variable."
   ]
  },
  {
   "cell_type": "code",
   "execution_count": 13,
   "metadata": {},
   "outputs": [
    {
     "name": "stdout",
     "output_type": "stream",
     "text": [
      "19813.61\n"
     ]
    }
   ],
   "source": [
    "# Navigate the BTC response object to access the current price of BTC\n",
    "btc_price = btc_response['data']['1']['quotes']['USD']['price']\n",
    "\n",
    "# Print the current price of BTC\n",
    "print(btc_price)\n"
   ]
  },
  {
   "cell_type": "code",
   "execution_count": 16,
   "metadata": {},
   "outputs": [
    {
     "name": "stdout",
     "output_type": "stream",
     "text": [
      "1090.08\n"
     ]
    }
   ],
   "source": [
    "# Navigate the BTC response object to access the current price of ETH\n",
    "eth_price = eth_response['data']['1027']['quotes']['USD']['price']\n",
    "\n",
    "# Print the current price of ETH\n",
    "print(eth_price)\n"
   ]
  },
  {
   "cell_type": "markdown",
   "metadata": {},
   "source": [
    "### Step 4: Calculate the value, in US dollars, of the current amount of each cryptocurrency and of the entire cryptocurrency wallet."
   ]
  },
  {
   "cell_type": "code",
   "execution_count": 17,
   "metadata": {},
   "outputs": [
    {
     "name": "stdout",
     "output_type": "stream",
     "text": [
      "23776.332\n"
     ]
    }
   ],
   "source": [
    "# Compute the current value of the BTC holding \n",
    "btc_value = btc_price*btc_coins\n",
    "\n",
    "# Print current value of your holding in BTC\n",
    "print(btc_value)\n"
   ]
  },
  {
   "cell_type": "code",
   "execution_count": 20,
   "metadata": {},
   "outputs": [
    {
     "name": "stdout",
     "output_type": "stream",
     "text": [
      "5777.423999999999\n"
     ]
    }
   ],
   "source": [
    "# Compute the current value of the ETH holding \n",
    "eth_value = eth_price*eth_coins\n",
    "\n",
    "# Print current value of your holding in ETH\n",
    "print(eth_value)\n"
   ]
  },
  {
   "cell_type": "code",
   "execution_count": 21,
   "metadata": {},
   "outputs": [
    {
     "name": "stdout",
     "output_type": "stream",
     "text": [
      "29553.755999999998\n"
     ]
    }
   ],
   "source": [
    "# Compute the total value of the cryptocurrency wallet\n",
    "# Add the value of the BTC holding to the value of the ETH holding\n",
    "total_crypto_wallet = eth_value+btc_value\n",
    "\n",
    "# Print current cryptocurrency wallet balance\n",
    "print(total_crypto_wallet)\n"
   ]
  },
  {
   "cell_type": "markdown",
   "metadata": {},
   "source": [
    "### Evaluate the Stock and Bond Holdings by Using the Alpaca SDK\n",
    "\n",
    "In this section, you’ll determine the current value of a member’s stock and bond holdings. You’ll make an API call to Alpaca via the Alpaca SDK to get the current closing prices of the SPDR S&P 500 ETF Trust (ticker: SPY) and of the iShares Core US Aggregate Bond ETF (ticker: AGG). For the prototype, assume that the member holds 110 shares of SPY, which represents the stock portion of their portfolio, and 200 shares of AGG, which represents the bond portion. To do all this, complete the following steps:\n",
    "\n",
    "1. In the `Starter_Code` folder, create an environment file (`.env`) to store the values of your Alpaca API key and Alpaca secret key.\n",
    "\n",
    "2. Set the variables for the Alpaca API and secret keys. Using the Alpaca SDK, create the Alpaca `tradeapi.REST` object. In this object, include the parameters for the Alpaca API key, the secret key, and the version number.\n",
    "\n",
    "3. Set the following parameters for the Alpaca API call:\n",
    "\n",
    "    - `tickers`: Use the tickers for the member’s stock and bond holdings.\n",
    "\n",
    "    - `timeframe`: Use a time frame of one day.\n",
    "\n",
    "    - `start_date` and `end_date`: Use the same date for these parameters, and format them with the date of the previous weekday (or `2020-08-07`). This is because you want the one closing price for the most-recent trading day.\n",
    "\n",
    "4. Get the current closing prices for `SPY` and `AGG` by using the Alpaca `get_bars` function. Format the response as a Pandas DataFrame by including the `df` property at the end of the `get_bars` function.\n",
    "\n",
    "5. Navigating the Alpaca response DataFrame, select the `SPY` and `AGG` closing prices, and store them as variables.\n",
    "\n",
    "6. Calculate the value, in US dollars, of the current amount of shares in each of the stock and bond portions of the portfolio, and print the results.\n"
   ]
  },
  {
   "cell_type": "markdown",
   "metadata": {},
   "source": [
    "#### Review the total number of shares held in both (SPY) and (AGG)."
   ]
  },
  {
   "cell_type": "code",
   "execution_count": 32,
   "metadata": {},
   "outputs": [],
   "source": [
    "# Current amount of shares held in both the stock (SPY) and bond (AGG) portion of the portfolio.\n",
    "spy_shares = 110\n",
    "agg_shares = 200\n"
   ]
  },
  {
   "cell_type": "markdown",
   "metadata": {},
   "source": [
    "#### Step 1: In the `Starter_Code` folder, create an environment file (`.env`) to store the values of your Alpaca API key and Alpaca secret key."
   ]
  },
  {
   "cell_type": "markdown",
   "metadata": {},
   "source": [
    "#### Step 2: Set the variables for the Alpaca API and secret keys. Using the Alpaca SDK, create the Alpaca `tradeapi.REST` object. In this object, include the parameters for the Alpaca API key, the secret key, and the version number."
   ]
  },
  {
   "cell_type": "code",
   "execution_count": 22,
   "metadata": {},
   "outputs": [],
   "source": [
    "# Set the variables for the Alpaca API and secret keys\n",
    "alpaca_api_key = os.getenv('ALPACA_API_KEY')\n",
    "alpaca_secret_key = os.getenv('ALPACA_SECRET_KEY')\n",
    "\n",
    "# Create the Alpaca tradeapi.REST object\n",
    "alpaca = tradeapi.REST(\n",
    "    alpaca_api_key,\n",
    "    alpaca_secret_key,\n",
    "    api_version='v2')"
   ]
  },
  {
   "cell_type": "markdown",
   "metadata": {},
   "source": [
    "#### Step 3: Set the following parameters for the Alpaca API call:\n",
    "\n",
    "- `tickers`: Use the tickers for the member’s stock and bond holdings.\n",
    "\n",
    "- `timeframe`: Use a time frame of one day.\n",
    "\n",
    "- `start_date` and `end_date`: Use the same date for these parameters, and format them with the date of the previous weekday (or `2020-08-07`). This is because you want the one closing price for the most-recent trading day.\n"
   ]
  },
  {
   "cell_type": "code",
   "execution_count": 23,
   "metadata": {},
   "outputs": [],
   "source": [
    "# Set the tickers for both the bond and stock portion of the portfolio\n",
    "tickers = ['SPY', 'AGG']\n",
    "\n",
    "# Set timeframe to 1Day\n",
    "timeframe = '1Day'\n",
    "\n",
    "# Format current date as ISO format\n",
    "# Set both the start and end date at the date of your prior weekday \n",
    "# This will give you the closing price of the previous trading day\n",
    "# Alternatively you can use a start and end date of 2020-08-07\n",
    "start_date = pd.Timestamp('2022-07-12', tz='America/New_York').isoformat()\n",
    "end_date = pd.Timestamp('2022-07-12', tz='America/New_York').isoformat()\n"
   ]
  },
  {
   "cell_type": "markdown",
   "metadata": {},
   "source": [
    "#### Step 4: Get the current closing prices for `SPY` and `AGG` by using the Alpaca `get_bars` function. Format the response as a Pandas DataFrame by including the `df` property at the end of the `get_bars` function."
   ]
  },
  {
   "cell_type": "code",
   "execution_count": 25,
   "metadata": {},
   "outputs": [
    {
     "data": {
      "text/html": [
       "<div>\n",
       "<style scoped>\n",
       "    .dataframe tbody tr th:only-of-type {\n",
       "        vertical-align: middle;\n",
       "    }\n",
       "\n",
       "    .dataframe tbody tr th {\n",
       "        vertical-align: top;\n",
       "    }\n",
       "\n",
       "    .dataframe thead tr th {\n",
       "        text-align: left;\n",
       "    }\n",
       "\n",
       "    .dataframe thead tr:last-of-type th {\n",
       "        text-align: right;\n",
       "    }\n",
       "</style>\n",
       "<table border=\"1\" class=\"dataframe\">\n",
       "  <thead>\n",
       "    <tr>\n",
       "      <th></th>\n",
       "      <th colspan=\"7\" halign=\"left\">SPY</th>\n",
       "      <th colspan=\"7\" halign=\"left\">AGG</th>\n",
       "    </tr>\n",
       "    <tr>\n",
       "      <th></th>\n",
       "      <th>open</th>\n",
       "      <th>high</th>\n",
       "      <th>low</th>\n",
       "      <th>close</th>\n",
       "      <th>volume</th>\n",
       "      <th>trade_count</th>\n",
       "      <th>vwap</th>\n",
       "      <th>open</th>\n",
       "      <th>high</th>\n",
       "      <th>low</th>\n",
       "      <th>close</th>\n",
       "      <th>volume</th>\n",
       "      <th>trade_count</th>\n",
       "      <th>vwap</th>\n",
       "    </tr>\n",
       "    <tr>\n",
       "      <th>timestamp</th>\n",
       "      <th></th>\n",
       "      <th></th>\n",
       "      <th></th>\n",
       "      <th></th>\n",
       "      <th></th>\n",
       "      <th></th>\n",
       "      <th></th>\n",
       "      <th></th>\n",
       "      <th></th>\n",
       "      <th></th>\n",
       "      <th></th>\n",
       "      <th></th>\n",
       "      <th></th>\n",
       "      <th></th>\n",
       "    </tr>\n",
       "  </thead>\n",
       "  <tbody>\n",
       "    <tr>\n",
       "      <th>2022-07-12 04:00:00+00:00</th>\n",
       "      <td>383.66</td>\n",
       "      <td>386.16</td>\n",
       "      <td>378.99</td>\n",
       "      <td>380.83</td>\n",
       "      <td>62027220</td>\n",
       "      <td>512244</td>\n",
       "      <td>382.61762</td>\n",
       "      <td>102.02</td>\n",
       "      <td>102.19</td>\n",
       "      <td>101.82</td>\n",
       "      <td>101.84</td>\n",
       "      <td>6664991</td>\n",
       "      <td>21057</td>\n",
       "      <td>102.03944</td>\n",
       "    </tr>\n",
       "  </tbody>\n",
       "</table>\n",
       "</div>"
      ],
      "text/plain": [
       "                              SPY                                    \\\n",
       "                             open    high     low   close    volume   \n",
       "timestamp                                                             \n",
       "2022-07-12 04:00:00+00:00  383.66  386.16  378.99  380.83  62027220   \n",
       "\n",
       "                                                     AGG                  \\\n",
       "                          trade_count       vwap    open    high     low   \n",
       "timestamp                                                                  \n",
       "2022-07-12 04:00:00+00:00      512244  382.61762  102.02  102.19  101.82   \n",
       "\n",
       "                                                                   \n",
       "                            close   volume trade_count       vwap  \n",
       "timestamp                                                          \n",
       "2022-07-12 04:00:00+00:00  101.84  6664991       21057  102.03944  "
      ]
     },
     "execution_count": 25,
     "metadata": {},
     "output_type": "execute_result"
    }
   ],
   "source": [
    "# Use the Alpaca get_bars function to get current closing prices the portfolio\n",
    "# Be sure to set the `df` property after the function to format the response object as a DataFrame\n",
    "stock_portfolio_df = alpaca.get_bars(\n",
    "    tickers,\n",
    "    timeframe,\n",
    "    start_date,\n",
    "    end_date\n",
    ").df\n",
    "\n",
    "# Reorganize the DataFrame\n",
    "# Separate ticker data\n",
    "SPY = stock_portfolio_df[stock_portfolio_df['symbol']=='SPY'].drop('symbol', axis=1)\n",
    "AGG = stock_portfolio_df[stock_portfolio_df['symbol']=='AGG'].drop('symbol', axis=1)\n",
    "\n",
    "# Concatenate the ticker DataFrames\n",
    "stock_portfolio_df = pd.concat([SPY,AGG], axis=1, keys=['SPY', 'AGG'])\n",
    "\n",
    "# Review the first 5 rows of the Alpaca DataFrame\n",
    "stock_portfolio_df.head()"
   ]
  },
  {
   "cell_type": "markdown",
   "metadata": {},
   "source": [
    "#### Step 5: Navigating the Alpaca response DataFrame, select the `SPY` and `AGG` closing prices, and store them as variables."
   ]
  },
  {
   "cell_type": "code",
   "execution_count": 30,
   "metadata": {},
   "outputs": [
    {
     "name": "stdout",
     "output_type": "stream",
     "text": [
      "101.84\n"
     ]
    }
   ],
   "source": [
    "# Access the closing price for AGG from the Alpaca DataFrame\n",
    "# Converting the value to a floating point number\n",
    "agg_close_price = float(stock_portfolio_df['AGG']['close'])\n",
    "\n",
    "# Print the AGG closing price\n",
    "print(agg_close_price)\n"
   ]
  },
  {
   "cell_type": "code",
   "execution_count": 31,
   "metadata": {},
   "outputs": [
    {
     "name": "stdout",
     "output_type": "stream",
     "text": [
      "380.83\n"
     ]
    }
   ],
   "source": [
    "# Access the closing price for SPY from the Alpaca DataFrame\n",
    "# Converting the value to a floating point number\n",
    "spy_close_price = float(stock_portfolio_df['SPY']['close'])\n",
    "\n",
    "# Print the SPY closing price\n",
    "print(spy_close_price)\n"
   ]
  },
  {
   "cell_type": "markdown",
   "metadata": {},
   "source": [
    "#### Step 6: Calculate the value, in US dollars, of the current amount of shares in each of the stock and bond portions of the portfolio, and print the results."
   ]
  },
  {
   "cell_type": "code",
   "execution_count": 33,
   "metadata": {},
   "outputs": [
    {
     "name": "stdout",
     "output_type": "stream",
     "text": [
      "20368.0\n"
     ]
    }
   ],
   "source": [
    "# Calculate the current value of the bond portion of the portfolio\n",
    "agg_value = agg_close_price*agg_shares\n",
    "\n",
    "# Print the current value of the bond portfolio\n",
    "print(agg_value)\n"
   ]
  },
  {
   "cell_type": "code",
   "execution_count": 34,
   "metadata": {},
   "outputs": [
    {
     "name": "stdout",
     "output_type": "stream",
     "text": [
      "41891.299999999996\n"
     ]
    }
   ],
   "source": [
    "# Calculate the current value of the stock portion of the portfolio\n",
    "spy_value = spy_close_price*spy_shares\n",
    "\n",
    "# Print the current value of the stock portfolio\n",
    "print(spy_value)\n"
   ]
  },
  {
   "cell_type": "code",
   "execution_count": 36,
   "metadata": {},
   "outputs": [
    {
     "name": "stdout",
     "output_type": "stream",
     "text": [
      "62259.299999999996\n"
     ]
    }
   ],
   "source": [
    "# Calculate the total value of the stock and bond portion of the portfolio\n",
    "total_stocks_bonds = spy_value+agg_value\n",
    "\n",
    "# Print the current balance of the stock and bond portion of the portfolio\n",
    "print(total_stocks_bonds)\n"
   ]
  },
  {
   "cell_type": "code",
   "execution_count": 37,
   "metadata": {},
   "outputs": [
    {
     "name": "stdout",
     "output_type": "stream",
     "text": [
      "91813.056\n"
     ]
    }
   ],
   "source": [
    "# Calculate the total value of the member's entire savings portfolio\n",
    "# Add the value of the cryptocurrency walled to the value of the total stocks and bonds\n",
    "total_portfolio = total_crypto_wallet+total_stocks_bonds\n",
    "\n",
    "# Print current value of portfolio\n",
    "print(total_portfolio)\n"
   ]
  },
  {
   "cell_type": "markdown",
   "metadata": {},
   "source": [
    "### Evaluate the Emergency Fund\n",
    "\n",
    "In this section, you’ll use the valuations for the cryptocurrency wallet and for the stock and bond portions of the portfolio to determine if the credit union member has enough savings to build an emergency fund into their financial plan. To do this, complete the following steps:\n",
    "\n",
    "1. Create a Python list named `savings_data` that has two elements. The first element contains the total value of the cryptocurrency wallet. The second element contains the total value of the stock and bond portions of the portfolio.\n",
    "\n",
    "2. Use the `savings_data` list to create a Pandas DataFrame named `savings_df`, and then display this DataFrame. The function to create the DataFrame should take the following three parameters:\n",
    "\n",
    "    - `savings_data`: Use the list that you just created.\n",
    "\n",
    "    - `columns`: Set this parameter equal to a Python list with a single value called `amount`.\n",
    "\n",
    "    - `index`: Set this parameter equal to a Python list with the values of `crypto` and `stock/bond`.\n",
    "\n",
    "3. Use the `savings_df` DataFrame to plot a pie chart that visualizes the composition of the member’s portfolio. The y-axis of the pie chart uses `amount`. Be sure to add a title.\n",
    "\n",
    "4. Using Python, determine if the current portfolio has enough to create an emergency fund as part of the member’s financial plan. Ideally, an emergency fund should equal to three times the member’s monthly income. To do this, implement the following steps:\n",
    "\n",
    "    1. Create a variable named `emergency_fund_value`, and set it equal to three times the value of the member’s `monthly_income` of $12000. (You set this earlier in Part 1).\n",
    "\n",
    "    2. Create a series of three if statements to determine if the member’s total portfolio is large enough to fund the emergency portfolio:\n",
    "\n",
    "        1. If the total portfolio value is greater than the emergency fund value, display a message congratulating the member for having enough money in this fund.\n",
    "\n",
    "        2. Else if the total portfolio value is equal to the emergency fund value, display a message congratulating the member on reaching this important financial goal.\n",
    "\n",
    "        3. Else the total portfolio is less than the emergency fund value, so display a message showing how many dollars away the member is from reaching the goal. (Subtract the total portfolio value from the emergency fund value.)\n"
   ]
  },
  {
   "cell_type": "markdown",
   "metadata": {},
   "source": [
    "#### Step 1: Create a Python list named `savings_data` that has two elements. The first element contains the total value of the cryptocurrency wallet. The second element contains the total value of the stock and bond portions of the portfolio."
   ]
  },
  {
   "cell_type": "code",
   "execution_count": 38,
   "metadata": {},
   "outputs": [
    {
     "name": "stdout",
     "output_type": "stream",
     "text": [
      "[29553.755999999998, 62259.299999999996]\n"
     ]
    }
   ],
   "source": [
    "# Consolidate financial assets data into a Python list\n",
    "savings_data = [total_crypto_wallet, total_stocks_bonds]\n",
    "\n",
    "# Review the Python list savings_data\n",
    "print(savings_data)\n",
    "    "
   ]
  },
  {
   "cell_type": "markdown",
   "metadata": {},
   "source": [
    "#### Step 2: Use the `savings_data` list to create a Pandas DataFrame named `savings_df`, and then display this DataFrame. The function to create the DataFrame should take the following three parameters:\n",
    "\n",
    "- `savings_data`: Use the list that you just created.\n",
    "\n",
    "- `columns`: Set this parameter equal to a Python list with a single value called `amount`.\n",
    "\n",
    "- `index`: Set this parameter equal to a Python list with the values of `crypto` and `stock/bond`.\n"
   ]
  },
  {
   "cell_type": "code",
   "execution_count": 45,
   "metadata": {},
   "outputs": [
    {
     "name": "stdout",
     "output_type": "stream",
     "text": [
      "               amount\n",
      "crypto      29553.756\n",
      "stock/bond  62259.300\n"
     ]
    }
   ],
   "source": [
    "# Create a Pandas DataFrame called savings_df \n",
    "savings_df = pd.DataFrame(data=savings_data, index=['crypto','stock/bond'], columns=['amount'])\n",
    "\n",
    "# Display the savings_df DataFrame\n",
    "print(savings_df)\n"
   ]
  },
  {
   "cell_type": "markdown",
   "metadata": {},
   "source": [
    "#### Step 3: Use the `savings_df` DataFrame to plot a pie chart that visualizes the composition of the member’s portfolio. The y-axis of the pie chart uses `amount`. Be sure to add a title."
   ]
  },
  {
   "cell_type": "code",
   "execution_count": 54,
   "metadata": {},
   "outputs": [
    {
     "data": {
      "text/plain": [
       "<AxesSubplot:title={'center':'Savings Composition'}, ylabel='amount'>"
      ]
     },
     "execution_count": 54,
     "metadata": {},
     "output_type": "execute_result"
    },
    {
     "data": {
      "image/png": "[encoded data removed]",
      "text/plain": [
       "<Figure size 720x504 with 1 Axes>"
      ]
     },
     "metadata": {},
     "output_type": "display_data"
    }
   ],
   "source": [
    "# Plot the total value of the member's portfolio (crypto and stock/bond) in a pie chart\n",
    "savings_df.plot(kind='pie', y='amount', title='Savings Composition', figsize=(10,7))\n"
   ]
  },
  {
   "cell_type": "markdown",
   "metadata": {
    "tags": []
   },
   "source": [
    "#### Step 4: Using Python, determine if the current portfolio has enough to create an emergency fund as part of the member’s financial plan. Ideally, an emergency fund should equal to three times the member’s monthly income. To do this, implement the following steps:\n",
    "\n",
    "Step 1. Create a variable named `emergency_fund_value`, and set it equal to three times the value of the member’s `monthly_income` of 12000. (You set this earlier in Part 1).\n",
    "\n",
    "Step 2. Create a series of three if statements to determine if the member’s total portfolio is large enough to fund the emergency portfolio:\n",
    "\n",
    "* If the total portfolio value is greater than the emergency fund value, display a message congratulating the member for having enough money in this fund.\n",
    "\n",
    "* Else if the total portfolio value is equal to the emergency fund value, display a message congratulating the member on reaching this important financial goal.\n",
    "\n",
    "* Else the total portfolio is less than the emergency fund value, so display a message showing how many dollars away the member is from reaching the goal. (Subtract the total portfolio value from the emergency fund value.)\n"
   ]
  },
  {
   "cell_type": "markdown",
   "metadata": {},
   "source": [
    "##### Step 4-1: Create a variable named `emergency_fund_value`, and set it equal to three times the value of the member’s `monthly_income` of 12000. (You set this earlier in Part 1)."
   ]
  },
  {
   "cell_type": "code",
   "execution_count": 55,
   "metadata": {},
   "outputs": [],
   "source": [
    "# Create a variable named emergency_fund_value\n",
    "emergency_fund_value = monthly_income*3\n"
   ]
  },
  {
   "cell_type": "markdown",
   "metadata": {},
   "source": [
    "##### Step 4-2: Create a series of three if statements to determine if the member’s total portfolio is large enough to fund the emergency portfolio:\n",
    "\n",
    "* If the total portfolio value is greater than the emergency fund value, display a message congratulating the member for having enough money in this fund.\n",
    "\n",
    "* Else if the total portfolio value is equal to the emergency fund value, display a message congratulating the member on reaching this important financial goal.\n",
    "\n",
    "* Else the total portfolio is less than the emergency fund value, so display a message showing how many dollars away the member is from reaching the goal. (Subtract the total portfolio value from the emergency fund value.)"
   ]
  },
  {
   "cell_type": "code",
   "execution_count": 63,
   "metadata": {},
   "outputs": [
    {
     "name": "stdout",
     "output_type": "stream",
     "text": [
      "Congratulations! You have enough money saved for an emergency fund!\n"
     ]
    }
   ],
   "source": [
    "# Evaluate the possibility of creating an emergency fund with 3 conditions:\n",
    "if total_portfolio > emergency_fund_value:\n",
    "    print('Congratulations! You have enough money saved for an emergency fund!')\n",
    "elif total_portfolio == emergency_fund_value:\n",
    "    print('Congratulations! You have saved enough money to start an emergency fund!')\n",
    "else: print(f'You are ${emergency_fund_value-total_portfolio} away from being able to start an emergency fund')\n"
   ]
  },
  {
   "cell_type": "markdown",
   "metadata": {},
   "source": [
    "## Part 2: Create a Financial Planner for Retirement"
   ]
  },
  {
   "cell_type": "markdown",
   "metadata": {
    "tags": []
   },
   "source": [
    "### Create the Monte Carlo Simulation\n",
    "\n",
    "In this section, you’ll use the MCForecastTools library to create a Monte Carlo simulation for the member’s savings portfolio. To do this, complete the following steps:\n",
    "\n",
    "1. Make an API call via the Alpaca SDK to get 3 years of historical closing prices for a traditional 60/40 portfolio split: 60% stocks (SPY) and 40% bonds (AGG).\n",
    "\n",
    "2. Run a Monte Carlo simulation of 500 samples and 30 years for the 60/40 portfolio, and then plot the results.The following image shows the overlay line plot resulting from a simulation with these characteristics. However, because a random number generator is used to run each live Monte Carlo simulation, your image will differ slightly from this exact image:\n",
    "\n",
    "![A screenshot depicts the resulting plot.](Images/5-4-monte-carlo-line-plot.png)\n",
    "\n",
    "3. Plot the probability distribution of the Monte Carlo simulation. Plot the probability distribution of the Monte Carlo simulation. The following image shows the histogram plot resulting from a simulation with these characteristics. However, because a random number generator is used to run each live Monte Carlo simulation, your image will differ slightly from this exact image:\n",
    "\n",
    "![A screenshot depicts the histogram plot.](Images/5-4-monte-carlo-histogram.png)\n",
    "\n",
    "4. Generate the summary statistics for the Monte Carlo simulation.\n",
    "\n"
   ]
  },
  {
   "cell_type": "markdown",
   "metadata": {},
   "source": [
    "#### Step 1: Make an API call via the Alpaca SDK to get 3 years of historical closing prices for a traditional 60/40 portfolio split: 60% stocks (SPY) and 40% bonds (AGG)."
   ]
  },
  {
   "cell_type": "code",
   "execution_count": 65,
   "metadata": {},
   "outputs": [],
   "source": [
    "# Set start and end dates of 3 years back from your current date\n",
    "# Alternatively, you can use an end date of 2020-08-07 and work 3 years back from that date \n",
    "start_date = pd.Timestamp('2019-07-12', tz='America/New_York').isoformat()\n",
    "end_date = pd.Timestamp('2022-07-12', tz='America/New_York').isoformat()"
   ]
  },
  {
   "cell_type": "code",
   "execution_count": 72,
   "metadata": {},
   "outputs": [
    {
     "name": "stdout",
     "output_type": "stream",
     "text": [
      "                              SPY                                    \\\n",
      "                             open    high     low   close    volume   \n",
      "timestamp                                                             \n",
      "2019-07-12 04:00:00+00:00  299.86  300.73  299.51  300.65  40511434   \n",
      "2019-07-15 04:00:00+00:00  301.12  301.13  300.19  300.75  33992129   \n",
      "2019-07-16 04:00:00+00:00  300.64  300.88  299.44  299.71  40807546   \n",
      "2019-07-17 04:00:00+00:00  299.77  299.93  297.74  297.74  44343835   \n",
      "2019-07-18 04:00:00+00:00  297.18  299.25  296.70  298.83  53567032   \n",
      "\n",
      "                                                      AGG                   \\\n",
      "                          trade_count        vwap    open     high     low   \n",
      "timestamp                                                                    \n",
      "2019-07-12 04:00:00+00:00      176835  300.142196  110.67  110.845  110.67   \n",
      "2019-07-15 04:00:00+00:00      149900  300.605019  110.87  110.960  110.85   \n",
      "2019-07-16 04:00:00+00:00      183816  300.108039  110.75  110.830  110.64   \n",
      "2019-07-17 04:00:00+00:00      200151  298.543544  110.93  111.140  110.91   \n",
      "2019-07-18 04:00:00+00:00      236661  298.067797  111.10  111.330  111.06   \n",
      "\n",
      "                                                                    \n",
      "                            close   volume trade_count        vwap  \n",
      "timestamp                                                           \n",
      "2019-07-12 04:00:00+00:00  110.79  3837088       22044  110.768279  \n",
      "2019-07-15 04:00:00+00:00  110.95  3619089       10885  110.925638  \n",
      "2019-07-16 04:00:00+00:00  110.83  2149083       12676  110.743438  \n",
      "2019-07-17 04:00:00+00:00  111.12  2985610       11771  111.066605  \n",
      "2019-07-18 04:00:00+00:00  111.30  5982223       17331  111.220550  \n",
      "                              SPY                                     \\\n",
      "                             open    high      low   close    volume   \n",
      "timestamp                                                              \n",
      "2022-07-06 04:00:00+00:00  382.07  385.87  379.600  383.25  69844126   \n",
      "2022-07-07 04:00:00+00:00  385.12  389.83  383.267  388.99  64172156   \n",
      "2022-07-08 04:00:00+00:00  387.16  390.64  385.660  388.67  72468892   \n",
      "2022-07-11 04:00:00+00:00  385.91  386.87  383.500  384.23  58100363   \n",
      "2022-07-12 04:00:00+00:00  383.66  386.16  378.990  380.83  62027220   \n",
      "\n",
      "                                                      AGG                      \\\n",
      "                          trade_count        vwap    open      high       low   \n",
      "timestamp                                                                       \n",
      "2022-07-06 04:00:00+00:00      614420  382.508286  102.78  102.8000  101.8400   \n",
      "2022-07-07 04:00:00+00:00      467708  387.621834  101.94  101.9799  101.5200   \n",
      "2022-07-08 04:00:00+00:00      509776  388.661805  101.35  101.4499  101.1600   \n",
      "2022-07-11 04:00:00+00:00      473423  384.871994  101.67  101.9200  101.6029   \n",
      "2022-07-12 04:00:00+00:00      512244  382.617620  102.02  102.1900  101.8200   \n",
      "\n",
      "                                                                    \n",
      "                            close   volume trade_count        vwap  \n",
      "timestamp                                                           \n",
      "2022-07-06 04:00:00+00:00  101.84  6644945       26799  102.118683  \n",
      "2022-07-07 04:00:00+00:00  101.61  8220620       17966  101.626894  \n",
      "2022-07-08 04:00:00+00:00  101.23  5269814       19181  101.268556  \n",
      "2022-07-11 04:00:00+00:00  101.70  5758310       17084  101.720884  \n",
      "2022-07-12 04:00:00+00:00  101.84  6664991       21057  102.039440  \n"
     ]
    }
   ],
   "source": [
    "# Use the Alpaca get_bars function to make the API call to get the 3 years worth of pricing data\n",
    "# The tickers and timeframe parameters should have been set in Part 1 of this activity \n",
    "# The start and end dates should be updated with the information set above\n",
    "# Remember to add the df property to the end of the call so the response is returned as a DataFrame\n",
    "stock_data_df = alpaca.get_bars(\n",
    "    tickers,\n",
    "    timeframe,\n",
    "    start_date,\n",
    "    end_date\n",
    ").df\n",
    "\n",
    "# Reorganize the DataFrame\n",
    "# Separate ticker data\n",
    "SPY = stock_data_df[stock_data_df['symbol']=='SPY'].drop('symbol', axis=1)\n",
    "AGG = stock_data_df[stock_data_df['symbol']=='AGG'].drop('symbol', axis=1)\n",
    "# Concatenate the ticker DataFrames\n",
    "stock_data_df = pd.concat([SPY, AGG],axis=1, keys=['SPY','AGG'])\n",
    "\n",
    "# Display both the first and last five rows of the DataFrame\n",
    "print(stock_data_df.head())\n",
    "print(stock_data_df.tail())\n"
   ]
  },
  {
   "cell_type": "markdown",
   "metadata": {},
   "source": [
    "#### Step 2: Run a Monte Carlo simulation of 500 samples and 30 years for the 60/40 portfolio, and then plot the results."
   ]
  },
  {
   "cell_type": "code",
   "execution_count": 74,
   "metadata": {},
   "outputs": [
    {
     "data": {
      "text/html": [
       "<div>\n",
       "<style scoped>\n",
       "    .dataframe tbody tr th:only-of-type {\n",
       "        vertical-align: middle;\n",
       "    }\n",
       "\n",
       "    .dataframe tbody tr th {\n",
       "        vertical-align: top;\n",
       "    }\n",
       "\n",
       "    .dataframe thead tr th {\n",
       "        text-align: left;\n",
       "    }\n",
       "\n",
       "    .dataframe thead tr:last-of-type th {\n",
       "        text-align: right;\n",
       "    }\n",
       "</style>\n",
       "<table border=\"1\" class=\"dataframe\">\n",
       "  <thead>\n",
       "    <tr>\n",
       "      <th></th>\n",
       "      <th colspan=\"7\" halign=\"left\">SPY</th>\n",
       "      <th colspan=\"7\" halign=\"left\">AGG</th>\n",
       "    </tr>\n",
       "    <tr>\n",
       "      <th></th>\n",
       "      <th>open</th>\n",
       "      <th>high</th>\n",
       "      <th>low</th>\n",
       "      <th>close</th>\n",
       "      <th>volume</th>\n",
       "      <th>trade_count</th>\n",
       "      <th>vwap</th>\n",
       "      <th>open</th>\n",
       "      <th>high</th>\n",
       "      <th>low</th>\n",
       "      <th>close</th>\n",
       "      <th>volume</th>\n",
       "      <th>trade_count</th>\n",
       "      <th>vwap</th>\n",
       "    </tr>\n",
       "    <tr>\n",
       "      <th>timestamp</th>\n",
       "      <th></th>\n",
       "      <th></th>\n",
       "      <th></th>\n",
       "      <th></th>\n",
       "      <th></th>\n",
       "      <th></th>\n",
       "      <th></th>\n",
       "      <th></th>\n",
       "      <th></th>\n",
       "      <th></th>\n",
       "      <th></th>\n",
       "      <th></th>\n",
       "      <th></th>\n",
       "      <th></th>\n",
       "    </tr>\n",
       "  </thead>\n",
       "  <tbody>\n",
       "    <tr>\n",
       "      <th>2019-07-12 04:00:00+00:00</th>\n",
       "      <td>299.86</td>\n",
       "      <td>300.73</td>\n",
       "      <td>299.510</td>\n",
       "      <td>300.65</td>\n",
       "      <td>40511434</td>\n",
       "      <td>176835</td>\n",
       "      <td>300.142196</td>\n",
       "      <td>110.67</td>\n",
       "      <td>110.8450</td>\n",
       "      <td>110.6700</td>\n",
       "      <td>110.79</td>\n",
       "      <td>3837088</td>\n",
       "      <td>22044</td>\n",
       "      <td>110.768279</td>\n",
       "    </tr>\n",
       "    <tr>\n",
       "      <th>2019-07-15 04:00:00+00:00</th>\n",
       "      <td>301.12</td>\n",
       "      <td>301.13</td>\n",
       "      <td>300.190</td>\n",
       "      <td>300.75</td>\n",
       "      <td>33992129</td>\n",
       "      <td>149900</td>\n",
       "      <td>300.605019</td>\n",
       "      <td>110.87</td>\n",
       "      <td>110.9600</td>\n",
       "      <td>110.8500</td>\n",
       "      <td>110.95</td>\n",
       "      <td>3619089</td>\n",
       "      <td>10885</td>\n",
       "      <td>110.925638</td>\n",
       "    </tr>\n",
       "    <tr>\n",
       "      <th>2019-07-16 04:00:00+00:00</th>\n",
       "      <td>300.64</td>\n",
       "      <td>300.88</td>\n",
       "      <td>299.440</td>\n",
       "      <td>299.71</td>\n",
       "      <td>40807546</td>\n",
       "      <td>183816</td>\n",
       "      <td>300.108039</td>\n",
       "      <td>110.75</td>\n",
       "      <td>110.8300</td>\n",
       "      <td>110.6400</td>\n",
       "      <td>110.83</td>\n",
       "      <td>2149083</td>\n",
       "      <td>12676</td>\n",
       "      <td>110.743438</td>\n",
       "    </tr>\n",
       "    <tr>\n",
       "      <th>2019-07-17 04:00:00+00:00</th>\n",
       "      <td>299.77</td>\n",
       "      <td>299.93</td>\n",
       "      <td>297.740</td>\n",
       "      <td>297.74</td>\n",
       "      <td>44343835</td>\n",
       "      <td>200151</td>\n",
       "      <td>298.543544</td>\n",
       "      <td>110.93</td>\n",
       "      <td>111.1400</td>\n",
       "      <td>110.9100</td>\n",
       "      <td>111.12</td>\n",
       "      <td>2985610</td>\n",
       "      <td>11771</td>\n",
       "      <td>111.066605</td>\n",
       "    </tr>\n",
       "    <tr>\n",
       "      <th>2019-07-18 04:00:00+00:00</th>\n",
       "      <td>297.18</td>\n",
       "      <td>299.25</td>\n",
       "      <td>296.700</td>\n",
       "      <td>298.83</td>\n",
       "      <td>53567032</td>\n",
       "      <td>236661</td>\n",
       "      <td>298.067797</td>\n",
       "      <td>111.10</td>\n",
       "      <td>111.3300</td>\n",
       "      <td>111.0600</td>\n",
       "      <td>111.30</td>\n",
       "      <td>5982223</td>\n",
       "      <td>17331</td>\n",
       "      <td>111.220550</td>\n",
       "    </tr>\n",
       "    <tr>\n",
       "      <th>...</th>\n",
       "      <td>...</td>\n",
       "      <td>...</td>\n",
       "      <td>...</td>\n",
       "      <td>...</td>\n",
       "      <td>...</td>\n",
       "      <td>...</td>\n",
       "      <td>...</td>\n",
       "      <td>...</td>\n",
       "      <td>...</td>\n",
       "      <td>...</td>\n",
       "      <td>...</td>\n",
       "      <td>...</td>\n",
       "      <td>...</td>\n",
       "      <td>...</td>\n",
       "    </tr>\n",
       "    <tr>\n",
       "      <th>2022-07-06 04:00:00+00:00</th>\n",
       "      <td>382.07</td>\n",
       "      <td>385.87</td>\n",
       "      <td>379.600</td>\n",
       "      <td>383.25</td>\n",
       "      <td>69844126</td>\n",
       "      <td>614420</td>\n",
       "      <td>382.508286</td>\n",
       "      <td>102.78</td>\n",
       "      <td>102.8000</td>\n",
       "      <td>101.8400</td>\n",
       "      <td>101.84</td>\n",
       "      <td>6644945</td>\n",
       "      <td>26799</td>\n",
       "      <td>102.118683</td>\n",
       "    </tr>\n",
       "    <tr>\n",
       "      <th>2022-07-07 04:00:00+00:00</th>\n",
       "      <td>385.12</td>\n",
       "      <td>389.83</td>\n",
       "      <td>383.267</td>\n",
       "      <td>388.99</td>\n",
       "      <td>64172156</td>\n",
       "      <td>467708</td>\n",
       "      <td>387.621834</td>\n",
       "      <td>101.94</td>\n",
       "      <td>101.9799</td>\n",
       "      <td>101.5200</td>\n",
       "      <td>101.61</td>\n",
       "      <td>8220620</td>\n",
       "      <td>17966</td>\n",
       "      <td>101.626894</td>\n",
       "    </tr>\n",
       "    <tr>\n",
       "      <th>2022-07-08 04:00:00+00:00</th>\n",
       "      <td>387.16</td>\n",
       "      <td>390.64</td>\n",
       "      <td>385.660</td>\n",
       "      <td>388.67</td>\n",
       "      <td>72468892</td>\n",
       "      <td>509776</td>\n",
       "      <td>388.661805</td>\n",
       "      <td>101.35</td>\n",
       "      <td>101.4499</td>\n",
       "      <td>101.1600</td>\n",
       "      <td>101.23</td>\n",
       "      <td>5269814</td>\n",
       "      <td>19181</td>\n",
       "      <td>101.268556</td>\n",
       "    </tr>\n",
       "    <tr>\n",
       "      <th>2022-07-11 04:00:00+00:00</th>\n",
       "      <td>385.91</td>\n",
       "      <td>386.87</td>\n",
       "      <td>383.500</td>\n",
       "      <td>384.23</td>\n",
       "      <td>58100363</td>\n",
       "      <td>473423</td>\n",
       "      <td>384.871994</td>\n",
       "      <td>101.67</td>\n",
       "      <td>101.9200</td>\n",
       "      <td>101.6029</td>\n",
       "      <td>101.70</td>\n",
       "      <td>5758310</td>\n",
       "      <td>17084</td>\n",
       "      <td>101.720884</td>\n",
       "    </tr>\n",
       "    <tr>\n",
       "      <th>2022-07-12 04:00:00+00:00</th>\n",
       "      <td>383.66</td>\n",
       "      <td>386.16</td>\n",
       "      <td>378.990</td>\n",
       "      <td>380.83</td>\n",
       "      <td>62027220</td>\n",
       "      <td>512244</td>\n",
       "      <td>382.617620</td>\n",
       "      <td>102.02</td>\n",
       "      <td>102.1900</td>\n",
       "      <td>101.8200</td>\n",
       "      <td>101.84</td>\n",
       "      <td>6664991</td>\n",
       "      <td>21057</td>\n",
       "      <td>102.039440</td>\n",
       "    </tr>\n",
       "  </tbody>\n",
       "</table>\n",
       "<p>756 rows × 14 columns</p>\n",
       "</div>"
      ],
      "text/plain": [
       "                              SPY                                     \\\n",
       "                             open    high      low   close    volume   \n",
       "timestamp                                                              \n",
       "2019-07-12 04:00:00+00:00  299.86  300.73  299.510  300.65  40511434   \n",
       "2019-07-15 04:00:00+00:00  301.12  301.13  300.190  300.75  33992129   \n",
       "2019-07-16 04:00:00+00:00  300.64  300.88  299.440  299.71  40807546   \n",
       "2019-07-17 04:00:00+00:00  299.77  299.93  297.740  297.74  44343835   \n",
       "2019-07-18 04:00:00+00:00  297.18  299.25  296.700  298.83  53567032   \n",
       "...                           ...     ...      ...     ...       ...   \n",
       "2022-07-06 04:00:00+00:00  382.07  385.87  379.600  383.25  69844126   \n",
       "2022-07-07 04:00:00+00:00  385.12  389.83  383.267  388.99  64172156   \n",
       "2022-07-08 04:00:00+00:00  387.16  390.64  385.660  388.67  72468892   \n",
       "2022-07-11 04:00:00+00:00  385.91  386.87  383.500  384.23  58100363   \n",
       "2022-07-12 04:00:00+00:00  383.66  386.16  378.990  380.83  62027220   \n",
       "\n",
       "                                                      AGG                      \\\n",
       "                          trade_count        vwap    open      high       low   \n",
       "timestamp                                                                       \n",
       "2019-07-12 04:00:00+00:00      176835  300.142196  110.67  110.8450  110.6700   \n",
       "2019-07-15 04:00:00+00:00      149900  300.605019  110.87  110.9600  110.8500   \n",
       "2019-07-16 04:00:00+00:00      183816  300.108039  110.75  110.8300  110.6400   \n",
       "2019-07-17 04:00:00+00:00      200151  298.543544  110.93  111.1400  110.9100   \n",
       "2019-07-18 04:00:00+00:00      236661  298.067797  111.10  111.3300  111.0600   \n",
       "...                               ...         ...     ...       ...       ...   \n",
       "2022-07-06 04:00:00+00:00      614420  382.508286  102.78  102.8000  101.8400   \n",
       "2022-07-07 04:00:00+00:00      467708  387.621834  101.94  101.9799  101.5200   \n",
       "2022-07-08 04:00:00+00:00      509776  388.661805  101.35  101.4499  101.1600   \n",
       "2022-07-11 04:00:00+00:00      473423  384.871994  101.67  101.9200  101.6029   \n",
       "2022-07-12 04:00:00+00:00      512244  382.617620  102.02  102.1900  101.8200   \n",
       "\n",
       "                                                                    \n",
       "                            close   volume trade_count        vwap  \n",
       "timestamp                                                           \n",
       "2019-07-12 04:00:00+00:00  110.79  3837088       22044  110.768279  \n",
       "2019-07-15 04:00:00+00:00  110.95  3619089       10885  110.925638  \n",
       "2019-07-16 04:00:00+00:00  110.83  2149083       12676  110.743438  \n",
       "2019-07-17 04:00:00+00:00  111.12  2985610       11771  111.066605  \n",
       "2019-07-18 04:00:00+00:00  111.30  5982223       17331  111.220550  \n",
       "...                           ...      ...         ...         ...  \n",
       "2022-07-06 04:00:00+00:00  101.84  6644945       26799  102.118683  \n",
       "2022-07-07 04:00:00+00:00  101.61  8220620       17966  101.626894  \n",
       "2022-07-08 04:00:00+00:00  101.23  5269814       19181  101.268556  \n",
       "2022-07-11 04:00:00+00:00  101.70  5758310       17084  101.720884  \n",
       "2022-07-12 04:00:00+00:00  101.84  6664991       21057  102.039440  \n",
       "\n",
       "[756 rows x 14 columns]"
      ]
     },
     "execution_count": 74,
     "metadata": {},
     "output_type": "execute_result"
    }
   ],
   "source": [
    "# Configure the Monte Carlo simulation to forecast 30 years cumulative returns\n",
    "# The weights should be split 40% to AGG and 60% to SPY.\n",
    "# Run 500 samples.\n",
    "MC_30year = MCSimulation(\n",
    "    stock_data_df,\n",
    "    weights=[.60, .40],\n",
    "    num_simulation=500,\n",
    "    num_trading_days=252*30\n",
    ")\n",
    "\n",
    "# Review the simulation input data\n",
    "stock_data_df\n"
   ]
  },
  {
   "cell_type": "code",
   "execution_count": 75,
   "metadata": {},
   "outputs": [
    {
     "name": "stdout",
     "output_type": "stream",
     "text": [
      "Running Monte Carlo simulation number 0.\n",
      "Running Monte Carlo simulation number 10.\n",
      "Running Monte Carlo simulation number 20.\n",
      "Running Monte Carlo simulation number 30.\n",
      "Running Monte Carlo simulation number 40.\n",
      "Running Monte Carlo simulation number 50.\n",
      "Running Monte Carlo simulation number 60.\n",
      "Running Monte Carlo simulation number 70.\n",
      "Running Monte Carlo simulation number 80.\n",
      "Running Monte Carlo simulation number 90.\n",
      "Running Monte Carlo simulation number 100.\n"
     ]
    },
    {
     "name": "stderr",
     "output_type": "stream",
     "text": [
      "C:\\Users\\gtkhh\\desktop\\Fintech-Workspace\\Challenges\\financial_planning_tools\\financial_planning\\MCForecastTools.py:117: PerformanceWarning: DataFrame is highly fragmented.  This is usually the result of calling `frame.insert` many times, which has poor performance.  Consider joining all columns at once using pd.concat(axis=1) instead.  To get a de-fragmented frame, use `newframe = frame.copy()`\n",
      "  portfolio_cumulative_returns[n] = (1 + sim_df.fillna(0)).cumprod()\n"
     ]
    },
    {
     "name": "stdout",
     "output_type": "stream",
     "text": [
      "Running Monte Carlo simulation number 110.\n",
      "Running Monte Carlo simulation number 120.\n",
      "Running Monte Carlo simulation number 130.\n",
      "Running Monte Carlo simulation number 140.\n",
      "Running Monte Carlo simulation number 150.\n",
      "Running Monte Carlo simulation number 160.\n",
      "Running Monte Carlo simulation number 170.\n",
      "Running Monte Carlo simulation number 180.\n",
      "Running Monte Carlo simulation number 190.\n",
      "Running Monte Carlo simulation number 200.\n",
      "Running Monte Carlo simulation number 210.\n",
      "Running Monte Carlo simulation number 220.\n",
      "Running Monte Carlo simulation number 230.\n",
      "Running Monte Carlo simulation number 240.\n",
      "Running Monte Carlo simulation number 250.\n",
      "Running Monte Carlo simulation number 260.\n",
      "Running Monte Carlo simulation number 270.\n",
      "Running Monte Carlo simulation number 280.\n",
      "Running Monte Carlo simulation number 290.\n",
      "Running Monte Carlo simulation number 300.\n",
      "Running Monte Carlo simulation number 310.\n",
      "Running Monte Carlo simulation number 320.\n",
      "Running Monte Carlo simulation number 330.\n",
      "Running Monte Carlo simulation number 340.\n",
      "Running Monte Carlo simulation number 350.\n",
      "Running Monte Carlo simulation number 360.\n",
      "Running Monte Carlo simulation number 370.\n",
      "Running Monte Carlo simulation number 380.\n",
      "Running Monte Carlo simulation number 390.\n",
      "Running Monte Carlo simulation number 400.\n",
      "Running Monte Carlo simulation number 410.\n",
      "Running Monte Carlo simulation number 420.\n",
      "Running Monte Carlo simulation number 430.\n",
      "Running Monte Carlo simulation number 440.\n",
      "Running Monte Carlo simulation number 450.\n",
      "Running Monte Carlo simulation number 460.\n",
      "Running Monte Carlo simulation number 470.\n",
      "Running Monte Carlo simulation number 480.\n",
      "Running Monte Carlo simulation number 490.\n"
     ]
    },
    {
     "data": {
      "text/html": [
       "<div>\n",
       "<style scoped>\n",
       "    .dataframe tbody tr th:only-of-type {\n",
       "        vertical-align: middle;\n",
       "    }\n",
       "\n",
       "    .dataframe tbody tr th {\n",
       "        vertical-align: top;\n",
       "    }\n",
       "\n",
       "    .dataframe thead th {\n",
       "        text-align: right;\n",
       "    }\n",
       "</style>\n",
       "<table border=\"1\" class=\"dataframe\">\n",
       "  <thead>\n",
       "    <tr style=\"text-align: right;\">\n",
       "      <th></th>\n",
       "      <th>0</th>\n",
       "      <th>1</th>\n",
       "      <th>2</th>\n",
       "      <th>3</th>\n",
       "      <th>4</th>\n",
       "      <th>5</th>\n",
       "      <th>6</th>\n",
       "      <th>7</th>\n",
       "      <th>8</th>\n",
       "      <th>9</th>\n",
       "      <th>...</th>\n",
       "      <th>490</th>\n",
       "      <th>491</th>\n",
       "      <th>492</th>\n",
       "      <th>493</th>\n",
       "      <th>494</th>\n",
       "      <th>495</th>\n",
       "      <th>496</th>\n",
       "      <th>497</th>\n",
       "      <th>498</th>\n",
       "      <th>499</th>\n",
       "    </tr>\n",
       "  </thead>\n",
       "  <tbody>\n",
       "    <tr>\n",
       "      <th>0</th>\n",
       "      <td>1.000000</td>\n",
       "      <td>1.000000</td>\n",
       "      <td>1.000000</td>\n",
       "      <td>1.000000</td>\n",
       "      <td>1.000000</td>\n",
       "      <td>1.000000</td>\n",
       "      <td>1.000000</td>\n",
       "      <td>1.000000</td>\n",
       "      <td>1.000000</td>\n",
       "      <td>1.000000</td>\n",
       "      <td>...</td>\n",
       "      <td>1.000000</td>\n",
       "      <td>1.000000</td>\n",
       "      <td>1.000000</td>\n",
       "      <td>1.000000</td>\n",
       "      <td>1.000000</td>\n",
       "      <td>1.000000</td>\n",
       "      <td>1.000000</td>\n",
       "      <td>1.000000</td>\n",
       "      <td>1.000000</td>\n",
       "      <td>1.000000</td>\n",
       "    </tr>\n",
       "    <tr>\n",
       "      <th>1</th>\n",
       "      <td>1.017276</td>\n",
       "      <td>0.996884</td>\n",
       "      <td>0.977860</td>\n",
       "      <td>1.000577</td>\n",
       "      <td>0.993164</td>\n",
       "      <td>1.000703</td>\n",
       "      <td>1.016720</td>\n",
       "      <td>1.012830</td>\n",
       "      <td>1.006845</td>\n",
       "      <td>1.020408</td>\n",
       "      <td>...</td>\n",
       "      <td>0.994996</td>\n",
       "      <td>0.999915</td>\n",
       "      <td>1.009140</td>\n",
       "      <td>0.987704</td>\n",
       "      <td>0.998949</td>\n",
       "      <td>1.010778</td>\n",
       "      <td>0.996786</td>\n",
       "      <td>1.006708</td>\n",
       "      <td>1.013474</td>\n",
       "      <td>0.990600</td>\n",
       "    </tr>\n",
       "    <tr>\n",
       "      <th>2</th>\n",
       "      <td>1.009530</td>\n",
       "      <td>0.987479</td>\n",
       "      <td>0.970598</td>\n",
       "      <td>1.009261</td>\n",
       "      <td>0.984764</td>\n",
       "      <td>0.982480</td>\n",
       "      <td>1.010391</td>\n",
       "      <td>1.009049</td>\n",
       "      <td>1.000329</td>\n",
       "      <td>1.041292</td>\n",
       "      <td>...</td>\n",
       "      <td>0.996844</td>\n",
       "      <td>1.009742</td>\n",
       "      <td>1.008638</td>\n",
       "      <td>0.984829</td>\n",
       "      <td>0.998248</td>\n",
       "      <td>0.995546</td>\n",
       "      <td>1.004785</td>\n",
       "      <td>1.001643</td>\n",
       "      <td>0.997500</td>\n",
       "      <td>0.990999</td>\n",
       "    </tr>\n",
       "    <tr>\n",
       "      <th>3</th>\n",
       "      <td>1.002697</td>\n",
       "      <td>0.990747</td>\n",
       "      <td>0.968188</td>\n",
       "      <td>1.016447</td>\n",
       "      <td>0.978245</td>\n",
       "      <td>0.977894</td>\n",
       "      <td>1.011706</td>\n",
       "      <td>1.014328</td>\n",
       "      <td>0.988928</td>\n",
       "      <td>1.058094</td>\n",
       "      <td>...</td>\n",
       "      <td>0.990639</td>\n",
       "      <td>1.002470</td>\n",
       "      <td>1.025716</td>\n",
       "      <td>0.987671</td>\n",
       "      <td>0.996923</td>\n",
       "      <td>1.007863</td>\n",
       "      <td>1.002707</td>\n",
       "      <td>0.986065</td>\n",
       "      <td>0.988885</td>\n",
       "      <td>0.984529</td>\n",
       "    </tr>\n",
       "    <tr>\n",
       "      <th>4</th>\n",
       "      <td>0.996159</td>\n",
       "      <td>0.994061</td>\n",
       "      <td>0.962258</td>\n",
       "      <td>1.008422</td>\n",
       "      <td>0.984056</td>\n",
       "      <td>0.973969</td>\n",
       "      <td>1.001500</td>\n",
       "      <td>0.996690</td>\n",
       "      <td>0.981393</td>\n",
       "      <td>1.058949</td>\n",
       "      <td>...</td>\n",
       "      <td>1.003760</td>\n",
       "      <td>0.989237</td>\n",
       "      <td>1.027298</td>\n",
       "      <td>0.982798</td>\n",
       "      <td>0.993895</td>\n",
       "      <td>1.019663</td>\n",
       "      <td>0.997616</td>\n",
       "      <td>1.006081</td>\n",
       "      <td>0.989851</td>\n",
       "      <td>0.980791</td>\n",
       "    </tr>\n",
       "    <tr>\n",
       "      <th>...</th>\n",
       "      <td>...</td>\n",
       "      <td>...</td>\n",
       "      <td>...</td>\n",
       "      <td>...</td>\n",
       "      <td>...</td>\n",
       "      <td>...</td>\n",
       "      <td>...</td>\n",
       "      <td>...</td>\n",
       "      <td>...</td>\n",
       "      <td>...</td>\n",
       "      <td>...</td>\n",
       "      <td>...</td>\n",
       "      <td>...</td>\n",
       "      <td>...</td>\n",
       "      <td>...</td>\n",
       "      <td>...</td>\n",
       "      <td>...</td>\n",
       "      <td>...</td>\n",
       "      <td>...</td>\n",
       "      <td>...</td>\n",
       "      <td>...</td>\n",
       "    </tr>\n",
       "    <tr>\n",
       "      <th>7556</th>\n",
       "      <td>38.279785</td>\n",
       "      <td>4.198646</td>\n",
       "      <td>3.694305</td>\n",
       "      <td>6.753775</td>\n",
       "      <td>2.033471</td>\n",
       "      <td>5.778031</td>\n",
       "      <td>4.406957</td>\n",
       "      <td>17.740715</td>\n",
       "      <td>8.257321</td>\n",
       "      <td>2.197355</td>\n",
       "      <td>...</td>\n",
       "      <td>1.816940</td>\n",
       "      <td>17.142563</td>\n",
       "      <td>6.168922</td>\n",
       "      <td>2.807085</td>\n",
       "      <td>13.652696</td>\n",
       "      <td>13.489638</td>\n",
       "      <td>1.918282</td>\n",
       "      <td>0.781324</td>\n",
       "      <td>3.295429</td>\n",
       "      <td>5.769628</td>\n",
       "    </tr>\n",
       "    <tr>\n",
       "      <th>7557</th>\n",
       "      <td>37.880431</td>\n",
       "      <td>4.221385</td>\n",
       "      <td>3.708850</td>\n",
       "      <td>6.748771</td>\n",
       "      <td>2.048916</td>\n",
       "      <td>5.778447</td>\n",
       "      <td>4.379206</td>\n",
       "      <td>17.891258</td>\n",
       "      <td>8.271130</td>\n",
       "      <td>2.192437</td>\n",
       "      <td>...</td>\n",
       "      <td>1.831703</td>\n",
       "      <td>17.197655</td>\n",
       "      <td>6.102827</td>\n",
       "      <td>2.829733</td>\n",
       "      <td>13.815945</td>\n",
       "      <td>13.557790</td>\n",
       "      <td>1.914719</td>\n",
       "      <td>0.777865</td>\n",
       "      <td>3.291751</td>\n",
       "      <td>5.707177</td>\n",
       "    </tr>\n",
       "    <tr>\n",
       "      <th>7558</th>\n",
       "      <td>37.962273</td>\n",
       "      <td>4.257335</td>\n",
       "      <td>3.669863</td>\n",
       "      <td>6.791991</td>\n",
       "      <td>2.029442</td>\n",
       "      <td>5.774103</td>\n",
       "      <td>4.353858</td>\n",
       "      <td>17.797909</td>\n",
       "      <td>8.218934</td>\n",
       "      <td>2.161841</td>\n",
       "      <td>...</td>\n",
       "      <td>1.827678</td>\n",
       "      <td>17.089235</td>\n",
       "      <td>6.172430</td>\n",
       "      <td>2.870441</td>\n",
       "      <td>13.507142</td>\n",
       "      <td>13.322816</td>\n",
       "      <td>1.895315</td>\n",
       "      <td>0.765987</td>\n",
       "      <td>3.267237</td>\n",
       "      <td>5.690098</td>\n",
       "    </tr>\n",
       "    <tr>\n",
       "      <th>7559</th>\n",
       "      <td>37.986852</td>\n",
       "      <td>4.221437</td>\n",
       "      <td>3.651457</td>\n",
       "      <td>6.720082</td>\n",
       "      <td>2.030011</td>\n",
       "      <td>5.799294</td>\n",
       "      <td>4.372500</td>\n",
       "      <td>17.876015</td>\n",
       "      <td>8.239627</td>\n",
       "      <td>2.161859</td>\n",
       "      <td>...</td>\n",
       "      <td>1.837638</td>\n",
       "      <td>17.138787</td>\n",
       "      <td>6.129366</td>\n",
       "      <td>2.865333</td>\n",
       "      <td>13.464510</td>\n",
       "      <td>13.396797</td>\n",
       "      <td>1.899312</td>\n",
       "      <td>0.769770</td>\n",
       "      <td>3.270407</td>\n",
       "      <td>5.627363</td>\n",
       "    </tr>\n",
       "    <tr>\n",
       "      <th>7560</th>\n",
       "      <td>37.925876</td>\n",
       "      <td>4.246510</td>\n",
       "      <td>3.666479</td>\n",
       "      <td>6.673110</td>\n",
       "      <td>2.085304</td>\n",
       "      <td>5.814603</td>\n",
       "      <td>4.372427</td>\n",
       "      <td>17.820272</td>\n",
       "      <td>8.180676</td>\n",
       "      <td>2.141157</td>\n",
       "      <td>...</td>\n",
       "      <td>1.843312</td>\n",
       "      <td>17.121191</td>\n",
       "      <td>6.196873</td>\n",
       "      <td>2.853599</td>\n",
       "      <td>13.171685</td>\n",
       "      <td>13.370371</td>\n",
       "      <td>1.875591</td>\n",
       "      <td>0.776232</td>\n",
       "      <td>3.261923</td>\n",
       "      <td>5.687687</td>\n",
       "    </tr>\n",
       "  </tbody>\n",
       "</table>\n",
       "<p>7561 rows × 500 columns</p>\n",
       "</div>"
      ],
      "text/plain": [
       "            0         1         2         3         4         5         6    \\\n",
       "0      1.000000  1.000000  1.000000  1.000000  1.000000  1.000000  1.000000   \n",
       "1      1.017276  0.996884  0.977860  1.000577  0.993164  1.000703  1.016720   \n",
       "2      1.009530  0.987479  0.970598  1.009261  0.984764  0.982480  1.010391   \n",
       "3      1.002697  0.990747  0.968188  1.016447  0.978245  0.977894  1.011706   \n",
       "4      0.996159  0.994061  0.962258  1.008422  0.984056  0.973969  1.001500   \n",
       "...         ...       ...       ...       ...       ...       ...       ...   \n",
       "7556  38.279785  4.198646  3.694305  6.753775  2.033471  5.778031  4.406957   \n",
       "7557  37.880431  4.221385  3.708850  6.748771  2.048916  5.778447  4.379206   \n",
       "7558  37.962273  4.257335  3.669863  6.791991  2.029442  5.774103  4.353858   \n",
       "7559  37.986852  4.221437  3.651457  6.720082  2.030011  5.799294  4.372500   \n",
       "7560  37.925876  4.246510  3.666479  6.673110  2.085304  5.814603  4.372427   \n",
       "\n",
       "            7         8         9    ...       490        491       492  \\\n",
       "0      1.000000  1.000000  1.000000  ...  1.000000   1.000000  1.000000   \n",
       "1      1.012830  1.006845  1.020408  ...  0.994996   0.999915  1.009140   \n",
       "2      1.009049  1.000329  1.041292  ...  0.996844   1.009742  1.008638   \n",
       "3      1.014328  0.988928  1.058094  ...  0.990639   1.002470  1.025716   \n",
       "4      0.996690  0.981393  1.058949  ...  1.003760   0.989237  1.027298   \n",
       "...         ...       ...       ...  ...       ...        ...       ...   \n",
       "7556  17.740715  8.257321  2.197355  ...  1.816940  17.142563  6.168922   \n",
       "7557  17.891258  8.271130  2.192437  ...  1.831703  17.197655  6.102827   \n",
       "7558  17.797909  8.218934  2.161841  ...  1.827678  17.089235  6.172430   \n",
       "7559  17.876015  8.239627  2.161859  ...  1.837638  17.138787  6.129366   \n",
       "7560  17.820272  8.180676  2.141157  ...  1.843312  17.121191  6.196873   \n",
       "\n",
       "           493        494        495       496       497       498       499  \n",
       "0     1.000000   1.000000   1.000000  1.000000  1.000000  1.000000  1.000000  \n",
       "1     0.987704   0.998949   1.010778  0.996786  1.006708  1.013474  0.990600  \n",
       "2     0.984829   0.998248   0.995546  1.004785  1.001643  0.997500  0.990999  \n",
       "3     0.987671   0.996923   1.007863  1.002707  0.986065  0.988885  0.984529  \n",
       "4     0.982798   0.993895   1.019663  0.997616  1.006081  0.989851  0.980791  \n",
       "...        ...        ...        ...       ...       ...       ...       ...  \n",
       "7556  2.807085  13.652696  13.489638  1.918282  0.781324  3.295429  5.769628  \n",
       "7557  2.829733  13.815945  13.557790  1.914719  0.777865  3.291751  5.707177  \n",
       "7558  2.870441  13.507142  13.322816  1.895315  0.765987  3.267237  5.690098  \n",
       "7559  2.865333  13.464510  13.396797  1.899312  0.769770  3.270407  5.627363  \n",
       "7560  2.853599  13.171685  13.370371  1.875591  0.776232  3.261923  5.687687  \n",
       "\n",
       "[7561 rows x 500 columns]"
      ]
     },
     "execution_count": 75,
     "metadata": {},
     "output_type": "execute_result"
    }
   ],
   "source": [
    "# Run the Monte Carlo simulation to forecast 30 years cumulative returns\n",
    "MC_30year.calc_cumulative_return()\n"
   ]
  },
  {
   "cell_type": "code",
   "execution_count": 76,
   "metadata": {},
   "outputs": [
    {
     "data": {
      "text/plain": [
       "<AxesSubplot:title={'center':'500 Simulations of Cumulative Portfolio Return Trajectories Over the Next 7560 Trading Days.'}>"
      ]
     },
     "execution_count": 76,
     "metadata": {},
     "output_type": "execute_result"
    },
    {
     "data": {
      "image/png": "[encoded data removed]",
      "text/plain": [
       "<Figure size 432x288 with 1 Axes>"
      ]
     },
     "metadata": {
      "needs_background": "light"
     },
     "output_type": "display_data"
    }
   ],
   "source": [
    "# Visualize the 30-year Monte Carlo simulation by creating an\n",
    "# overlay line plot\n",
    "MC_30year.plot_simulation()\n"
   ]
  },
  {
   "cell_type": "markdown",
   "metadata": {},
   "source": [
    "#### Step 3: Plot the probability distribution of the Monte Carlo simulation."
   ]
  },
  {
   "cell_type": "code",
   "execution_count": 77,
   "metadata": {},
   "outputs": [
    {
     "data": {
      "text/plain": [
       "<AxesSubplot:title={'center':'Distribution of Final Cumuluative Returns Across All 500 Simulations'}, ylabel='Frequency'>"
      ]
     },
     "execution_count": 77,
     "metadata": {},
     "output_type": "execute_result"
    },
    {
     "data": {
      "image/png": "[encoded data removed]",
      "text/plain": [
       "<Figure size 432x288 with 1 Axes>"
      ]
     },
     "metadata": {
      "needs_background": "light"
     },
     "output_type": "display_data"
    }
   ],
   "source": [
    "# Visualize the probability distribution of the 30-year Monte Carlo simulation \n",
    "# by plotting a histogram\n",
    "MC_30year.plot_distribution()\n"
   ]
  },
  {
   "cell_type": "markdown",
   "metadata": {},
   "source": [
    "#### Step 4: Generate the summary statistics for the Monte Carlo simulation."
   ]
  },
  {
   "cell_type": "code",
   "execution_count": 78,
   "metadata": {},
   "outputs": [
    {
     "name": "stdout",
     "output_type": "stream",
     "text": [
      "count           500.000000\n",
      "mean              5.300918\n",
      "std               4.895311\n",
      "min               0.310593\n",
      "25%               2.102091\n",
      "50%               3.882443\n",
      "75%               6.769085\n",
      "max              38.830038\n",
      "95% CI Lower      0.803533\n",
      "95% CI Upper     17.720684\n",
      "Name: 7560, dtype: float64\n"
     ]
    }
   ],
   "source": [
    "# Generate summary statistics from the 30-year Monte Carlo simulation results\n",
    "# Save the results as a variable\n",
    "simulation_summary = MC_30year.summarize_cumulative_return()\n",
    "\n",
    "\n",
    "# Review the 30-year Monte Carlo summary statistics\n",
    "print(simulation_summary)"
   ]
  },
  {
   "cell_type": "markdown",
   "metadata": {},
   "source": [
    "### Analyze the Retirement Portfolio Forecasts\n",
    "\n",
    "Using the current value of only the stock and bond portion of the member's portfolio and the summary statistics that you generated from the Monte Carlo simulation, answer the following question in your Jupyter notebook:\n",
    "\n",
    "-  What are the lower and upper bounds for the expected value of the portfolio with a 95% confidence interval?\n"
   ]
  },
  {
   "cell_type": "code",
   "execution_count": 81,
   "metadata": {},
   "outputs": [
    {
     "name": "stdout",
     "output_type": "stream",
     "text": [
      "62259.299999999996\n"
     ]
    }
   ],
   "source": [
    "# Print the current balance of the stock and bond portion of the members portfolio\n",
    "print(total_stocks_bonds)\n"
   ]
  },
  {
   "cell_type": "code",
   "execution_count": 82,
   "metadata": {},
   "outputs": [
    {
     "name": "stdout",
     "output_type": "stream",
     "text": [
      "50027.40667583899\n",
      "1103277.3574737874\n"
     ]
    }
   ],
   "source": [
    "# Use the lower and upper `95%` confidence intervals to calculate the range of the possible outcomes for the current stock/bond portfolio\n",
    "ci_lower_thirty_cumulative_return = total_stocks_bonds*simulation_summary[8]\n",
    "ci_upper_thirty_cumulative_return = total_stocks_bonds*simulation_summary[9]\n",
    "\n",
    "# Print the result of your calculations\n",
    "print(ci_lower_thirty_cumulative_return)\n",
    "print(ci_upper_thirty_cumulative_return)\n"
   ]
  },
  {
   "cell_type": "markdown",
   "metadata": {},
   "source": [
    "### Forecast Cumulative Returns in 10 Years\n",
    "\n",
    "The CTO of the credit union is impressed with your work on these planning tools but wonders if 30 years is a long time to wait until retirement. So, your next task is to adjust the retirement portfolio and run a new Monte Carlo simulation to find out if the changes will allow members to retire earlier.\n",
    "\n",
    "For this new Monte Carlo simulation, do the following: \n",
    "\n",
    "- Forecast the cumulative returns for 10 years from now. Because of the shortened investment horizon (30 years to 10 years), the portfolio needs to invest more heavily in the riskier asset&mdash;that is, stock&mdash;to help accumulate wealth for retirement. \n",
    "\n",
    "- Adjust the weights of the retirement portfolio so that the composition for the Monte Carlo simulation consists of 20% bonds and 80% stocks. \n",
    "\n",
    "- Run the simulation over 500 samples, and use the same data that the API call to Alpaca generated.\n",
    "\n",
    "- Based on the new Monte Carlo simulation, answer the following questions in your Jupyter notebook:\n",
    "\n",
    "    - Using the current value of only the stock and bond portion of the member's portfolio and the summary statistics that you generated from the new Monte Carlo simulation, what are the lower and upper bounds for the expected value of the portfolio (with the new weights) with a 95% confidence interval?\n",
    "\n",
    "    - Will weighting the portfolio more heavily toward stocks allow the credit union members to retire after only 10 years?\n"
   ]
  },
  {
   "cell_type": "code",
   "execution_count": 84,
   "metadata": {},
   "outputs": [
    {
     "data": {
      "text/html": [
       "<div>\n",
       "<style scoped>\n",
       "    .dataframe tbody tr th:only-of-type {\n",
       "        vertical-align: middle;\n",
       "    }\n",
       "\n",
       "    .dataframe tbody tr th {\n",
       "        vertical-align: top;\n",
       "    }\n",
       "\n",
       "    .dataframe thead tr th {\n",
       "        text-align: left;\n",
       "    }\n",
       "\n",
       "    .dataframe thead tr:last-of-type th {\n",
       "        text-align: right;\n",
       "    }\n",
       "</style>\n",
       "<table border=\"1\" class=\"dataframe\">\n",
       "  <thead>\n",
       "    <tr>\n",
       "      <th></th>\n",
       "      <th colspan=\"7\" halign=\"left\">SPY</th>\n",
       "      <th colspan=\"7\" halign=\"left\">AGG</th>\n",
       "    </tr>\n",
       "    <tr>\n",
       "      <th></th>\n",
       "      <th>open</th>\n",
       "      <th>high</th>\n",
       "      <th>low</th>\n",
       "      <th>close</th>\n",
       "      <th>volume</th>\n",
       "      <th>trade_count</th>\n",
       "      <th>vwap</th>\n",
       "      <th>open</th>\n",
       "      <th>high</th>\n",
       "      <th>low</th>\n",
       "      <th>close</th>\n",
       "      <th>volume</th>\n",
       "      <th>trade_count</th>\n",
       "      <th>vwap</th>\n",
       "    </tr>\n",
       "    <tr>\n",
       "      <th>timestamp</th>\n",
       "      <th></th>\n",
       "      <th></th>\n",
       "      <th></th>\n",
       "      <th></th>\n",
       "      <th></th>\n",
       "      <th></th>\n",
       "      <th></th>\n",
       "      <th></th>\n",
       "      <th></th>\n",
       "      <th></th>\n",
       "      <th></th>\n",
       "      <th></th>\n",
       "      <th></th>\n",
       "      <th></th>\n",
       "    </tr>\n",
       "  </thead>\n",
       "  <tbody>\n",
       "    <tr>\n",
       "      <th>2019-07-12 04:00:00+00:00</th>\n",
       "      <td>299.86</td>\n",
       "      <td>300.73</td>\n",
       "      <td>299.510</td>\n",
       "      <td>300.65</td>\n",
       "      <td>40511434</td>\n",
       "      <td>176835</td>\n",
       "      <td>300.142196</td>\n",
       "      <td>110.67</td>\n",
       "      <td>110.8450</td>\n",
       "      <td>110.6700</td>\n",
       "      <td>110.79</td>\n",
       "      <td>3837088</td>\n",
       "      <td>22044</td>\n",
       "      <td>110.768279</td>\n",
       "    </tr>\n",
       "    <tr>\n",
       "      <th>2019-07-15 04:00:00+00:00</th>\n",
       "      <td>301.12</td>\n",
       "      <td>301.13</td>\n",
       "      <td>300.190</td>\n",
       "      <td>300.75</td>\n",
       "      <td>33992129</td>\n",
       "      <td>149900</td>\n",
       "      <td>300.605019</td>\n",
       "      <td>110.87</td>\n",
       "      <td>110.9600</td>\n",
       "      <td>110.8500</td>\n",
       "      <td>110.95</td>\n",
       "      <td>3619089</td>\n",
       "      <td>10885</td>\n",
       "      <td>110.925638</td>\n",
       "    </tr>\n",
       "    <tr>\n",
       "      <th>2019-07-16 04:00:00+00:00</th>\n",
       "      <td>300.64</td>\n",
       "      <td>300.88</td>\n",
       "      <td>299.440</td>\n",
       "      <td>299.71</td>\n",
       "      <td>40807546</td>\n",
       "      <td>183816</td>\n",
       "      <td>300.108039</td>\n",
       "      <td>110.75</td>\n",
       "      <td>110.8300</td>\n",
       "      <td>110.6400</td>\n",
       "      <td>110.83</td>\n",
       "      <td>2149083</td>\n",
       "      <td>12676</td>\n",
       "      <td>110.743438</td>\n",
       "    </tr>\n",
       "    <tr>\n",
       "      <th>2019-07-17 04:00:00+00:00</th>\n",
       "      <td>299.77</td>\n",
       "      <td>299.93</td>\n",
       "      <td>297.740</td>\n",
       "      <td>297.74</td>\n",
       "      <td>44343835</td>\n",
       "      <td>200151</td>\n",
       "      <td>298.543544</td>\n",
       "      <td>110.93</td>\n",
       "      <td>111.1400</td>\n",
       "      <td>110.9100</td>\n",
       "      <td>111.12</td>\n",
       "      <td>2985610</td>\n",
       "      <td>11771</td>\n",
       "      <td>111.066605</td>\n",
       "    </tr>\n",
       "    <tr>\n",
       "      <th>2019-07-18 04:00:00+00:00</th>\n",
       "      <td>297.18</td>\n",
       "      <td>299.25</td>\n",
       "      <td>296.700</td>\n",
       "      <td>298.83</td>\n",
       "      <td>53567032</td>\n",
       "      <td>236661</td>\n",
       "      <td>298.067797</td>\n",
       "      <td>111.10</td>\n",
       "      <td>111.3300</td>\n",
       "      <td>111.0600</td>\n",
       "      <td>111.30</td>\n",
       "      <td>5982223</td>\n",
       "      <td>17331</td>\n",
       "      <td>111.220550</td>\n",
       "    </tr>\n",
       "    <tr>\n",
       "      <th>...</th>\n",
       "      <td>...</td>\n",
       "      <td>...</td>\n",
       "      <td>...</td>\n",
       "      <td>...</td>\n",
       "      <td>...</td>\n",
       "      <td>...</td>\n",
       "      <td>...</td>\n",
       "      <td>...</td>\n",
       "      <td>...</td>\n",
       "      <td>...</td>\n",
       "      <td>...</td>\n",
       "      <td>...</td>\n",
       "      <td>...</td>\n",
       "      <td>...</td>\n",
       "    </tr>\n",
       "    <tr>\n",
       "      <th>2022-07-06 04:00:00+00:00</th>\n",
       "      <td>382.07</td>\n",
       "      <td>385.87</td>\n",
       "      <td>379.600</td>\n",
       "      <td>383.25</td>\n",
       "      <td>69844126</td>\n",
       "      <td>614420</td>\n",
       "      <td>382.508286</td>\n",
       "      <td>102.78</td>\n",
       "      <td>102.8000</td>\n",
       "      <td>101.8400</td>\n",
       "      <td>101.84</td>\n",
       "      <td>6644945</td>\n",
       "      <td>26799</td>\n",
       "      <td>102.118683</td>\n",
       "    </tr>\n",
       "    <tr>\n",
       "      <th>2022-07-07 04:00:00+00:00</th>\n",
       "      <td>385.12</td>\n",
       "      <td>389.83</td>\n",
       "      <td>383.267</td>\n",
       "      <td>388.99</td>\n",
       "      <td>64172156</td>\n",
       "      <td>467708</td>\n",
       "      <td>387.621834</td>\n",
       "      <td>101.94</td>\n",
       "      <td>101.9799</td>\n",
       "      <td>101.5200</td>\n",
       "      <td>101.61</td>\n",
       "      <td>8220620</td>\n",
       "      <td>17966</td>\n",
       "      <td>101.626894</td>\n",
       "    </tr>\n",
       "    <tr>\n",
       "      <th>2022-07-08 04:00:00+00:00</th>\n",
       "      <td>387.16</td>\n",
       "      <td>390.64</td>\n",
       "      <td>385.660</td>\n",
       "      <td>388.67</td>\n",
       "      <td>72468892</td>\n",
       "      <td>509776</td>\n",
       "      <td>388.661805</td>\n",
       "      <td>101.35</td>\n",
       "      <td>101.4499</td>\n",
       "      <td>101.1600</td>\n",
       "      <td>101.23</td>\n",
       "      <td>5269814</td>\n",
       "      <td>19181</td>\n",
       "      <td>101.268556</td>\n",
       "    </tr>\n",
       "    <tr>\n",
       "      <th>2022-07-11 04:00:00+00:00</th>\n",
       "      <td>385.91</td>\n",
       "      <td>386.87</td>\n",
       "      <td>383.500</td>\n",
       "      <td>384.23</td>\n",
       "      <td>58100363</td>\n",
       "      <td>473423</td>\n",
       "      <td>384.871994</td>\n",
       "      <td>101.67</td>\n",
       "      <td>101.9200</td>\n",
       "      <td>101.6029</td>\n",
       "      <td>101.70</td>\n",
       "      <td>5758310</td>\n",
       "      <td>17084</td>\n",
       "      <td>101.720884</td>\n",
       "    </tr>\n",
       "    <tr>\n",
       "      <th>2022-07-12 04:00:00+00:00</th>\n",
       "      <td>383.66</td>\n",
       "      <td>386.16</td>\n",
       "      <td>378.990</td>\n",
       "      <td>380.83</td>\n",
       "      <td>62027220</td>\n",
       "      <td>512244</td>\n",
       "      <td>382.617620</td>\n",
       "      <td>102.02</td>\n",
       "      <td>102.1900</td>\n",
       "      <td>101.8200</td>\n",
       "      <td>101.84</td>\n",
       "      <td>6664991</td>\n",
       "      <td>21057</td>\n",
       "      <td>102.039440</td>\n",
       "    </tr>\n",
       "  </tbody>\n",
       "</table>\n",
       "<p>756 rows × 14 columns</p>\n",
       "</div>"
      ],
      "text/plain": [
       "                              SPY                                     \\\n",
       "                             open    high      low   close    volume   \n",
       "timestamp                                                              \n",
       "2019-07-12 04:00:00+00:00  299.86  300.73  299.510  300.65  40511434   \n",
       "2019-07-15 04:00:00+00:00  301.12  301.13  300.190  300.75  33992129   \n",
       "2019-07-16 04:00:00+00:00  300.64  300.88  299.440  299.71  40807546   \n",
       "2019-07-17 04:00:00+00:00  299.77  299.93  297.740  297.74  44343835   \n",
       "2019-07-18 04:00:00+00:00  297.18  299.25  296.700  298.83  53567032   \n",
       "...                           ...     ...      ...     ...       ...   \n",
       "2022-07-06 04:00:00+00:00  382.07  385.87  379.600  383.25  69844126   \n",
       "2022-07-07 04:00:00+00:00  385.12  389.83  383.267  388.99  64172156   \n",
       "2022-07-08 04:00:00+00:00  387.16  390.64  385.660  388.67  72468892   \n",
       "2022-07-11 04:00:00+00:00  385.91  386.87  383.500  384.23  58100363   \n",
       "2022-07-12 04:00:00+00:00  383.66  386.16  378.990  380.83  62027220   \n",
       "\n",
       "                                                      AGG                      \\\n",
       "                          trade_count        vwap    open      high       low   \n",
       "timestamp                                                                       \n",
       "2019-07-12 04:00:00+00:00      176835  300.142196  110.67  110.8450  110.6700   \n",
       "2019-07-15 04:00:00+00:00      149900  300.605019  110.87  110.9600  110.8500   \n",
       "2019-07-16 04:00:00+00:00      183816  300.108039  110.75  110.8300  110.6400   \n",
       "2019-07-17 04:00:00+00:00      200151  298.543544  110.93  111.1400  110.9100   \n",
       "2019-07-18 04:00:00+00:00      236661  298.067797  111.10  111.3300  111.0600   \n",
       "...                               ...         ...     ...       ...       ...   \n",
       "2022-07-06 04:00:00+00:00      614420  382.508286  102.78  102.8000  101.8400   \n",
       "2022-07-07 04:00:00+00:00      467708  387.621834  101.94  101.9799  101.5200   \n",
       "2022-07-08 04:00:00+00:00      509776  388.661805  101.35  101.4499  101.1600   \n",
       "2022-07-11 04:00:00+00:00      473423  384.871994  101.67  101.9200  101.6029   \n",
       "2022-07-12 04:00:00+00:00      512244  382.617620  102.02  102.1900  101.8200   \n",
       "\n",
       "                                                                    \n",
       "                            close   volume trade_count        vwap  \n",
       "timestamp                                                           \n",
       "2019-07-12 04:00:00+00:00  110.79  3837088       22044  110.768279  \n",
       "2019-07-15 04:00:00+00:00  110.95  3619089       10885  110.925638  \n",
       "2019-07-16 04:00:00+00:00  110.83  2149083       12676  110.743438  \n",
       "2019-07-17 04:00:00+00:00  111.12  2985610       11771  111.066605  \n",
       "2019-07-18 04:00:00+00:00  111.30  5982223       17331  111.220550  \n",
       "...                           ...      ...         ...         ...  \n",
       "2022-07-06 04:00:00+00:00  101.84  6644945       26799  102.118683  \n",
       "2022-07-07 04:00:00+00:00  101.61  8220620       17966  101.626894  \n",
       "2022-07-08 04:00:00+00:00  101.23  5269814       19181  101.268556  \n",
       "2022-07-11 04:00:00+00:00  101.70  5758310       17084  101.720884  \n",
       "2022-07-12 04:00:00+00:00  101.84  6664991       21057  102.039440  \n",
       "\n",
       "[756 rows x 14 columns]"
      ]
     },
     "execution_count": 84,
     "metadata": {},
     "output_type": "execute_result"
    }
   ],
   "source": [
    "# Configure a Monte Carlo simulation to forecast 10 years cumulative returns\n",
    "# The weights should be split 20% to AGG and 80% to SPY.\n",
    "# Run 500 samples.\n",
    "MC_10year = MCSimulation(\n",
    "    stock_data_df,\n",
    "    weights = [.80, .20],\n",
    "    num_simulation=500,\n",
    "    num_trading_days=252*10)\n",
    "\n",
    "# Review the simulation input data\n",
    "stock_data_df\n"
   ]
  },
  {
   "cell_type": "code",
   "execution_count": 85,
   "metadata": {},
   "outputs": [
    {
     "name": "stdout",
     "output_type": "stream",
     "text": [
      "Running Monte Carlo simulation number 0.\n",
      "Running Monte Carlo simulation number 10.\n",
      "Running Monte Carlo simulation number 20.\n",
      "Running Monte Carlo simulation number 30.\n",
      "Running Monte Carlo simulation number 40.\n",
      "Running Monte Carlo simulation number 50.\n",
      "Running Monte Carlo simulation number 60.\n",
      "Running Monte Carlo simulation number 70.\n",
      "Running Monte Carlo simulation number 80.\n",
      "Running Monte Carlo simulation number 90.\n",
      "Running Monte Carlo simulation number 100.\n"
     ]
    },
    {
     "name": "stderr",
     "output_type": "stream",
     "text": [
      "C:\\Users\\gtkhh\\desktop\\Fintech-Workspace\\Challenges\\financial_planning_tools\\financial_planning\\MCForecastTools.py:117: PerformanceWarning: DataFrame is highly fragmented.  This is usually the result of calling `frame.insert` many times, which has poor performance.  Consider joining all columns at once using pd.concat(axis=1) instead.  To get a de-fragmented frame, use `newframe = frame.copy()`\n",
      "  portfolio_cumulative_returns[n] = (1 + sim_df.fillna(0)).cumprod()\n"
     ]
    },
    {
     "name": "stdout",
     "output_type": "stream",
     "text": [
      "Running Monte Carlo simulation number 110.\n",
      "Running Monte Carlo simulation number 120.\n",
      "Running Monte Carlo simulation number 130.\n",
      "Running Monte Carlo simulation number 140.\n",
      "Running Monte Carlo simulation number 150.\n",
      "Running Monte Carlo simulation number 160.\n",
      "Running Monte Carlo simulation number 170.\n",
      "Running Monte Carlo simulation number 180.\n",
      "Running Monte Carlo simulation number 190.\n",
      "Running Monte Carlo simulation number 200.\n",
      "Running Monte Carlo simulation number 210.\n",
      "Running Monte Carlo simulation number 220.\n",
      "Running Monte Carlo simulation number 230.\n",
      "Running Monte Carlo simulation number 240.\n",
      "Running Monte Carlo simulation number 250.\n",
      "Running Monte Carlo simulation number 260.\n",
      "Running Monte Carlo simulation number 270.\n",
      "Running Monte Carlo simulation number 280.\n",
      "Running Monte Carlo simulation number 290.\n",
      "Running Monte Carlo simulation number 300.\n",
      "Running Monte Carlo simulation number 310.\n",
      "Running Monte Carlo simulation number 320.\n",
      "Running Monte Carlo simulation number 330.\n",
      "Running Monte Carlo simulation number 340.\n",
      "Running Monte Carlo simulation number 350.\n",
      "Running Monte Carlo simulation number 360.\n",
      "Running Monte Carlo simulation number 370.\n",
      "Running Monte Carlo simulation number 380.\n",
      "Running Monte Carlo simulation number 390.\n",
      "Running Monte Carlo simulation number 400.\n",
      "Running Monte Carlo simulation number 410.\n",
      "Running Monte Carlo simulation number 420.\n",
      "Running Monte Carlo simulation number 430.\n",
      "Running Monte Carlo simulation number 440.\n",
      "Running Monte Carlo simulation number 450.\n",
      "Running Monte Carlo simulation number 460.\n",
      "Running Monte Carlo simulation number 470.\n",
      "Running Monte Carlo simulation number 480.\n",
      "Running Monte Carlo simulation number 490.\n"
     ]
    },
    {
     "data": {
      "text/html": [
       "<div>\n",
       "<style scoped>\n",
       "    .dataframe tbody tr th:only-of-type {\n",
       "        vertical-align: middle;\n",
       "    }\n",
       "\n",
       "    .dataframe tbody tr th {\n",
       "        vertical-align: top;\n",
       "    }\n",
       "\n",
       "    .dataframe thead th {\n",
       "        text-align: right;\n",
       "    }\n",
       "</style>\n",
       "<table border=\"1\" class=\"dataframe\">\n",
       "  <thead>\n",
       "    <tr style=\"text-align: right;\">\n",
       "      <th></th>\n",
       "      <th>0</th>\n",
       "      <th>1</th>\n",
       "      <th>2</th>\n",
       "      <th>3</th>\n",
       "      <th>4</th>\n",
       "      <th>5</th>\n",
       "      <th>6</th>\n",
       "      <th>7</th>\n",
       "      <th>8</th>\n",
       "      <th>9</th>\n",
       "      <th>...</th>\n",
       "      <th>490</th>\n",
       "      <th>491</th>\n",
       "      <th>492</th>\n",
       "      <th>493</th>\n",
       "      <th>494</th>\n",
       "      <th>495</th>\n",
       "      <th>496</th>\n",
       "      <th>497</th>\n",
       "      <th>498</th>\n",
       "      <th>499</th>\n",
       "    </tr>\n",
       "  </thead>\n",
       "  <tbody>\n",
       "    <tr>\n",
       "      <th>0</th>\n",
       "      <td>1.000000</td>\n",
       "      <td>1.000000</td>\n",
       "      <td>1.000000</td>\n",
       "      <td>1.000000</td>\n",
       "      <td>1.000000</td>\n",
       "      <td>1.000000</td>\n",
       "      <td>1.000000</td>\n",
       "      <td>1.000000</td>\n",
       "      <td>1.000000</td>\n",
       "      <td>1.000000</td>\n",
       "      <td>...</td>\n",
       "      <td>1.000000</td>\n",
       "      <td>1.000000</td>\n",
       "      <td>1.000000</td>\n",
       "      <td>1.000000</td>\n",
       "      <td>1.000000</td>\n",
       "      <td>1.000000</td>\n",
       "      <td>1.000000</td>\n",
       "      <td>1.000000</td>\n",
       "      <td>1.000000</td>\n",
       "      <td>1.000000</td>\n",
       "    </tr>\n",
       "    <tr>\n",
       "      <th>1</th>\n",
       "      <td>0.995394</td>\n",
       "      <td>1.003287</td>\n",
       "      <td>0.999607</td>\n",
       "      <td>1.020123</td>\n",
       "      <td>0.990563</td>\n",
       "      <td>0.977716</td>\n",
       "      <td>1.022426</td>\n",
       "      <td>0.995769</td>\n",
       "      <td>1.013377</td>\n",
       "      <td>1.013027</td>\n",
       "      <td>...</td>\n",
       "      <td>0.989483</td>\n",
       "      <td>0.985601</td>\n",
       "      <td>1.006370</td>\n",
       "      <td>0.994123</td>\n",
       "      <td>0.996535</td>\n",
       "      <td>1.003445</td>\n",
       "      <td>0.995220</td>\n",
       "      <td>0.985119</td>\n",
       "      <td>0.990430</td>\n",
       "      <td>0.987713</td>\n",
       "    </tr>\n",
       "    <tr>\n",
       "      <th>2</th>\n",
       "      <td>1.002207</td>\n",
       "      <td>1.011042</td>\n",
       "      <td>1.006667</td>\n",
       "      <td>1.015845</td>\n",
       "      <td>0.991691</td>\n",
       "      <td>0.983232</td>\n",
       "      <td>1.022703</td>\n",
       "      <td>0.979560</td>\n",
       "      <td>1.006927</td>\n",
       "      <td>1.020896</td>\n",
       "      <td>...</td>\n",
       "      <td>1.014958</td>\n",
       "      <td>1.006888</td>\n",
       "      <td>1.028416</td>\n",
       "      <td>0.989286</td>\n",
       "      <td>1.003206</td>\n",
       "      <td>0.988447</td>\n",
       "      <td>0.991665</td>\n",
       "      <td>0.988506</td>\n",
       "      <td>0.999176</td>\n",
       "      <td>0.978674</td>\n",
       "    </tr>\n",
       "    <tr>\n",
       "      <th>3</th>\n",
       "      <td>0.996227</td>\n",
       "      <td>1.010224</td>\n",
       "      <td>1.006498</td>\n",
       "      <td>1.013295</td>\n",
       "      <td>1.017309</td>\n",
       "      <td>0.975138</td>\n",
       "      <td>1.043317</td>\n",
       "      <td>0.979701</td>\n",
       "      <td>1.014923</td>\n",
       "      <td>1.012790</td>\n",
       "      <td>...</td>\n",
       "      <td>1.018544</td>\n",
       "      <td>1.009695</td>\n",
       "      <td>1.039102</td>\n",
       "      <td>0.991327</td>\n",
       "      <td>1.003010</td>\n",
       "      <td>0.981661</td>\n",
       "      <td>0.982222</td>\n",
       "      <td>0.984765</td>\n",
       "      <td>0.997331</td>\n",
       "      <td>0.978546</td>\n",
       "    </tr>\n",
       "    <tr>\n",
       "      <th>4</th>\n",
       "      <td>1.004096</td>\n",
       "      <td>1.014407</td>\n",
       "      <td>0.995331</td>\n",
       "      <td>1.016539</td>\n",
       "      <td>1.017962</td>\n",
       "      <td>0.983431</td>\n",
       "      <td>1.040629</td>\n",
       "      <td>0.992886</td>\n",
       "      <td>1.029971</td>\n",
       "      <td>1.008393</td>\n",
       "      <td>...</td>\n",
       "      <td>1.026393</td>\n",
       "      <td>1.019511</td>\n",
       "      <td>1.024654</td>\n",
       "      <td>0.988083</td>\n",
       "      <td>1.001752</td>\n",
       "      <td>0.974070</td>\n",
       "      <td>0.986281</td>\n",
       "      <td>0.960196</td>\n",
       "      <td>0.984127</td>\n",
       "      <td>0.983182</td>\n",
       "    </tr>\n",
       "    <tr>\n",
       "      <th>...</th>\n",
       "      <td>...</td>\n",
       "      <td>...</td>\n",
       "      <td>...</td>\n",
       "      <td>...</td>\n",
       "      <td>...</td>\n",
       "      <td>...</td>\n",
       "      <td>...</td>\n",
       "      <td>...</td>\n",
       "      <td>...</td>\n",
       "      <td>...</td>\n",
       "      <td>...</td>\n",
       "      <td>...</td>\n",
       "      <td>...</td>\n",
       "      <td>...</td>\n",
       "      <td>...</td>\n",
       "      <td>...</td>\n",
       "      <td>...</td>\n",
       "      <td>...</td>\n",
       "      <td>...</td>\n",
       "      <td>...</td>\n",
       "      <td>...</td>\n",
       "    </tr>\n",
       "    <tr>\n",
       "      <th>2516</th>\n",
       "      <td>5.268487</td>\n",
       "      <td>3.080828</td>\n",
       "      <td>2.003875</td>\n",
       "      <td>2.215703</td>\n",
       "      <td>4.926265</td>\n",
       "      <td>5.700237</td>\n",
       "      <td>2.376767</td>\n",
       "      <td>5.594337</td>\n",
       "      <td>5.607275</td>\n",
       "      <td>1.366365</td>\n",
       "      <td>...</td>\n",
       "      <td>3.923437</td>\n",
       "      <td>2.461900</td>\n",
       "      <td>1.117173</td>\n",
       "      <td>1.501889</td>\n",
       "      <td>1.384625</td>\n",
       "      <td>6.221852</td>\n",
       "      <td>1.858833</td>\n",
       "      <td>0.898096</td>\n",
       "      <td>1.653410</td>\n",
       "      <td>1.810519</td>\n",
       "    </tr>\n",
       "    <tr>\n",
       "      <th>2517</th>\n",
       "      <td>5.252085</td>\n",
       "      <td>3.127537</td>\n",
       "      <td>1.991809</td>\n",
       "      <td>2.208137</td>\n",
       "      <td>4.892579</td>\n",
       "      <td>5.776231</td>\n",
       "      <td>2.380321</td>\n",
       "      <td>5.413089</td>\n",
       "      <td>5.519740</td>\n",
       "      <td>1.351013</td>\n",
       "      <td>...</td>\n",
       "      <td>3.952786</td>\n",
       "      <td>2.492004</td>\n",
       "      <td>1.117296</td>\n",
       "      <td>1.500166</td>\n",
       "      <td>1.408274</td>\n",
       "      <td>6.186751</td>\n",
       "      <td>1.891088</td>\n",
       "      <td>0.906310</td>\n",
       "      <td>1.626128</td>\n",
       "      <td>1.800381</td>\n",
       "    </tr>\n",
       "    <tr>\n",
       "      <th>2518</th>\n",
       "      <td>5.231422</td>\n",
       "      <td>3.101806</td>\n",
       "      <td>2.005551</td>\n",
       "      <td>2.206137</td>\n",
       "      <td>4.855323</td>\n",
       "      <td>5.923863</td>\n",
       "      <td>2.359255</td>\n",
       "      <td>5.471397</td>\n",
       "      <td>5.472111</td>\n",
       "      <td>1.353222</td>\n",
       "      <td>...</td>\n",
       "      <td>3.981919</td>\n",
       "      <td>2.486261</td>\n",
       "      <td>1.123794</td>\n",
       "      <td>1.504213</td>\n",
       "      <td>1.374729</td>\n",
       "      <td>6.224398</td>\n",
       "      <td>1.896914</td>\n",
       "      <td>0.910866</td>\n",
       "      <td>1.601067</td>\n",
       "      <td>1.783519</td>\n",
       "    </tr>\n",
       "    <tr>\n",
       "      <th>2519</th>\n",
       "      <td>5.214530</td>\n",
       "      <td>3.128078</td>\n",
       "      <td>1.980493</td>\n",
       "      <td>2.202157</td>\n",
       "      <td>4.884496</td>\n",
       "      <td>6.098692</td>\n",
       "      <td>2.353427</td>\n",
       "      <td>5.456629</td>\n",
       "      <td>5.446880</td>\n",
       "      <td>1.363021</td>\n",
       "      <td>...</td>\n",
       "      <td>3.975036</td>\n",
       "      <td>2.465074</td>\n",
       "      <td>1.126020</td>\n",
       "      <td>1.544316</td>\n",
       "      <td>1.389341</td>\n",
       "      <td>6.171127</td>\n",
       "      <td>1.884570</td>\n",
       "      <td>0.906763</td>\n",
       "      <td>1.602103</td>\n",
       "      <td>1.817948</td>\n",
       "    </tr>\n",
       "    <tr>\n",
       "      <th>2520</th>\n",
       "      <td>5.356917</td>\n",
       "      <td>3.131246</td>\n",
       "      <td>1.961869</td>\n",
       "      <td>2.194152</td>\n",
       "      <td>4.928551</td>\n",
       "      <td>5.969350</td>\n",
       "      <td>2.378866</td>\n",
       "      <td>5.389344</td>\n",
       "      <td>5.394818</td>\n",
       "      <td>1.334132</td>\n",
       "      <td>...</td>\n",
       "      <td>3.968822</td>\n",
       "      <td>2.501861</td>\n",
       "      <td>1.149737</td>\n",
       "      <td>1.569273</td>\n",
       "      <td>1.408748</td>\n",
       "      <td>6.369207</td>\n",
       "      <td>1.890059</td>\n",
       "      <td>0.907648</td>\n",
       "      <td>1.628782</td>\n",
       "      <td>1.794713</td>\n",
       "    </tr>\n",
       "  </tbody>\n",
       "</table>\n",
       "<p>2521 rows × 500 columns</p>\n",
       "</div>"
      ],
      "text/plain": [
       "           0         1         2         3         4         5         6    \\\n",
       "0     1.000000  1.000000  1.000000  1.000000  1.000000  1.000000  1.000000   \n",
       "1     0.995394  1.003287  0.999607  1.020123  0.990563  0.977716  1.022426   \n",
       "2     1.002207  1.011042  1.006667  1.015845  0.991691  0.983232  1.022703   \n",
       "3     0.996227  1.010224  1.006498  1.013295  1.017309  0.975138  1.043317   \n",
       "4     1.004096  1.014407  0.995331  1.016539  1.017962  0.983431  1.040629   \n",
       "...        ...       ...       ...       ...       ...       ...       ...   \n",
       "2516  5.268487  3.080828  2.003875  2.215703  4.926265  5.700237  2.376767   \n",
       "2517  5.252085  3.127537  1.991809  2.208137  4.892579  5.776231  2.380321   \n",
       "2518  5.231422  3.101806  2.005551  2.206137  4.855323  5.923863  2.359255   \n",
       "2519  5.214530  3.128078  1.980493  2.202157  4.884496  6.098692  2.353427   \n",
       "2520  5.356917  3.131246  1.961869  2.194152  4.928551  5.969350  2.378866   \n",
       "\n",
       "           7         8         9    ...       490       491       492  \\\n",
       "0     1.000000  1.000000  1.000000  ...  1.000000  1.000000  1.000000   \n",
       "1     0.995769  1.013377  1.013027  ...  0.989483  0.985601  1.006370   \n",
       "2     0.979560  1.006927  1.020896  ...  1.014958  1.006888  1.028416   \n",
       "3     0.979701  1.014923  1.012790  ...  1.018544  1.009695  1.039102   \n",
       "4     0.992886  1.029971  1.008393  ...  1.026393  1.019511  1.024654   \n",
       "...        ...       ...       ...  ...       ...       ...       ...   \n",
       "2516  5.594337  5.607275  1.366365  ...  3.923437  2.461900  1.117173   \n",
       "2517  5.413089  5.519740  1.351013  ...  3.952786  2.492004  1.117296   \n",
       "2518  5.471397  5.472111  1.353222  ...  3.981919  2.486261  1.123794   \n",
       "2519  5.456629  5.446880  1.363021  ...  3.975036  2.465074  1.126020   \n",
       "2520  5.389344  5.394818  1.334132  ...  3.968822  2.501861  1.149737   \n",
       "\n",
       "           493       494       495       496       497       498       499  \n",
       "0     1.000000  1.000000  1.000000  1.000000  1.000000  1.000000  1.000000  \n",
       "1     0.994123  0.996535  1.003445  0.995220  0.985119  0.990430  0.987713  \n",
       "2     0.989286  1.003206  0.988447  0.991665  0.988506  0.999176  0.978674  \n",
       "3     0.991327  1.003010  0.981661  0.982222  0.984765  0.997331  0.978546  \n",
       "4     0.988083  1.001752  0.974070  0.986281  0.960196  0.984127  0.983182  \n",
       "...        ...       ...       ...       ...       ...       ...       ...  \n",
       "2516  1.501889  1.384625  6.221852  1.858833  0.898096  1.653410  1.810519  \n",
       "2517  1.500166  1.408274  6.186751  1.891088  0.906310  1.626128  1.800381  \n",
       "2518  1.504213  1.374729  6.224398  1.896914  0.910866  1.601067  1.783519  \n",
       "2519  1.544316  1.389341  6.171127  1.884570  0.906763  1.602103  1.817948  \n",
       "2520  1.569273  1.408748  6.369207  1.890059  0.907648  1.628782  1.794713  \n",
       "\n",
       "[2521 rows x 500 columns]"
      ]
     },
     "execution_count": 85,
     "metadata": {},
     "output_type": "execute_result"
    }
   ],
   "source": [
    "# Run the Monte Carlo simulation to forecast 10 years cumulative returns\n",
    "MC_10year.calc_cumulative_return()\n"
   ]
  },
  {
   "cell_type": "code",
   "execution_count": 86,
   "metadata": {},
   "outputs": [
    {
     "data": {
      "text/plain": [
       "<AxesSubplot:title={'center':'500 Simulations of Cumulative Portfolio Return Trajectories Over the Next 2520 Trading Days.'}>"
      ]
     },
     "execution_count": 86,
     "metadata": {},
     "output_type": "execute_result"
    },
    {
     "data": {
      "image/png": "[encoded data removed]",
      "text/plain": [
       "<Figure size 432x288 with 1 Axes>"
      ]
     },
     "metadata": {
      "needs_background": "light"
     },
     "output_type": "display_data"
    }
   ],
   "source": [
    "# Visualize the 10-year Monte Carlo simulation by creating an\n",
    "# overlay line plot\n",
    "MC_10year.plot_simulation()\n"
   ]
  },
  {
   "cell_type": "code",
   "execution_count": 95,
   "metadata": {},
   "outputs": [
    {
     "data": {
      "text/plain": [
       "<AxesSubplot:title={'center':'Distribution of Final Cumuluative Returns Across All 500 Simulations'}, ylabel='Frequency'>"
      ]
     },
     "execution_count": 95,
     "metadata": {},
     "output_type": "execute_result"
    },
    {
     "data": {
      "image/png": "[encoded data removed]",
      "text/plain": [
       "<Figure size 432x288 with 1 Axes>"
      ]
     },
     "metadata": {
      "needs_background": "light"
     },
     "output_type": "display_data"
    }
   ],
   "source": [
    "# Visualize the probability distribution of the 10-year Monte Carlo simulation \n",
    "# by plotting a histogram\n",
    "MC_10year.plot_distribution()\n"
   ]
  },
  {
   "cell_type": "code",
   "execution_count": 91,
   "metadata": {},
   "outputs": [
    {
     "name": "stdout",
     "output_type": "stream",
     "text": [
      "count           500.000000\n",
      "mean              2.264547\n",
      "std               1.775995\n",
      "min               0.299813\n",
      "25%               1.209924\n",
      "50%               1.860813\n",
      "75%               2.811287\n",
      "max              21.805757\n",
      "95% CI Lower      0.526996\n",
      "95% CI Upper      5.961905\n",
      "Name: 2520, dtype: float64\n"
     ]
    }
   ],
   "source": [
    "# Generate summary statistics from the 10-year Monte Carlo simulation results\n",
    "# Save the results as a variable\n",
    "simulation_summary = MC_10year.summarize_cumulative_return()\n",
    "\n",
    "\n",
    "# Review the 10-year Monte Carlo summary statistics\n",
    "print(simulation_summary)"
   ]
  },
  {
   "cell_type": "markdown",
   "metadata": {},
   "source": [
    "### Answer the following questions:"
   ]
  },
  {
   "cell_type": "markdown",
   "metadata": {},
   "source": [
    "#### Question: Using the current value of only the stock and bond portion of the member's portfolio and the summary statistics that you generated from the new Monte Carlo simulation, what are the lower and upper bounds for the expected value of the portfolio (with the new weights) with a 95% confidence interval?"
   ]
  },
  {
   "cell_type": "code",
   "execution_count": 92,
   "metadata": {},
   "outputs": [
    {
     "name": "stdout",
     "output_type": "stream",
     "text": [
      "62259.299999999996\n"
     ]
    }
   ],
   "source": [
    "# Print the current balance of the stock and bond portion of the members portfolio\n",
    "print(total_stocks_bonds)\n"
   ]
  },
  {
   "cell_type": "code",
   "execution_count": 94,
   "metadata": {},
   "outputs": [
    {
     "name": "stdout",
     "output_type": "stream",
     "text": [
      "32810.429541583246\n",
      "371184.00978799094\n"
     ]
    }
   ],
   "source": [
    "# Use the lower and upper `95%` confidence intervals to calculate the range of the possible outcomes for the current stock/bond portfolio\n",
    "ci_lower_ten_cumulative_return = simulation_summary[8]*total_stocks_bonds\n",
    "ci_upper_ten_cumulative_return = simulation_summary[9]*total_stocks_bonds\n",
    "\n",
    "# Print the result of your calculations\n",
    "print(ci_lower_ten_cumulative_return)\n",
    "print(ci_upper_ten_cumulative_return)\n"
   ]
  },
  {
   "cell_type": "markdown",
   "metadata": {},
   "source": [
    "#### Question: Will weighting the portfolio more heavily to stocks allow the credit union members to retire after only 10 years?"
   ]
  },
  {
   "cell_type": "raw",
   "metadata": {},
   "source": [
    "**Answer** No, even the upper bound of our 95% confidence window shows a possible value of $371184.01, which is not near enough money to retire. They could possibly retire in 10 years if they continued to make significant contributions during that time period and the market performed well, but hoping for the best is not a plan."
   ]
  },
  {
   "cell_type": "code",
   "execution_count": null,
   "metadata": {},
   "outputs": [],
   "source": []
  }
 ],
 "metadata": {
  "kernelspec": {
   "display_name": "Python 3 (ipykernel)",
   "language": "python",
   "name": "python3"
  },
  "language_info": {
   "codemirror_mode": {
    "name": "ipython",
    "version": 3
   },
   "file_extension": ".py",
   "mimetype": "text/x-python",
   "name": "python",
   "nbconvert_exporter": "python",
   "pygments_lexer": "ipython3",
   "version": "3.7.13"
  }
 },
 "nbformat": 4,
 "nbformat_minor": 4
}
